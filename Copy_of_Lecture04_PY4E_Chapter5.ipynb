{
  "nbformat": 4,
  "nbformat_minor": 0,
  "metadata": {
    "celltoolbar": "Slideshow",
    "kernelspec": {
      "display_name": "Python 3",
      "language": "python",
      "name": "python3"
    },
    "language_info": {
      "codemirror_mode": {
        "name": "ipython",
        "version": 3
      },
      "file_extension": ".py",
      "mimetype": "text/x-python",
      "name": "python",
      "nbconvert_exporter": "python",
      "pygments_lexer": "ipython3",
      "version": "3.7.3"
    },
    "colab": {
      "name": "Copy of Lecture04-PY4E-Chapter5.ipynb",
      "provenance": [],
      "include_colab_link": true
    }
  },
  "cells": [
    {
      "cell_type": "markdown",
      "metadata": {
        "id": "view-in-github",
        "colab_type": "text"
      },
      "source": [
        "<a href=\"https://colab.research.google.com/github/ypff/new-test/blob/master/Copy_of_Lecture04_PY4E_Chapter5.ipynb\" target=\"_parent\"><img src=\"https://colab.research.google.com/assets/colab-badge.svg\" alt=\"Open In Colab\"/></a>"
      ]
    },
    {
      "cell_type": "markdown",
      "metadata": {
        "id": "8x6JXjqvXyXx",
        "colab_type": "text"
      },
      "source": [
        "![DSB Logo](https://github.com/DrJieTao/ba505-docs/blob/master/slides/img/Dolan.jpg?raw=1)\n",
        "# Python Essentials: Iterations\n",
        "## PY4E Chapter 5\n",
        "### What you must know about Python"
      ]
    },
    {
      "cell_type": "markdown",
      "metadata": {
        "id": "Qfif3JsoXyYZ",
        "colab_type": "text"
      },
      "source": [
        "# Updating Variable Values\n",
        "\n",
        "- Do you remember from last week, the dice game?\n",
        "    - When we try to capture 10 rounds in a game, we have to run the function 10 times\n",
        "- Updating variable values is a common pattern in any program\n",
        "    - _ad hoc_ updating: reassign the value of a variable arbitrarily\n",
        "    - _systematic_ updating: updating the value according to some fixed pattern\n",
        "        - Updating a variable by adding 1 is called an _increment_; subtracting 1 is called a _decrement_\n"
      ]
    },
    {
      "cell_type": "code",
      "metadata": {
        "id": "HrQO5o56XyYa",
        "colab_type": "code",
        "outputId": "f4fb4f9c-dfc2-42d9-e956-527800953ccb",
        "colab": {
          "base_uri": "https://localhost:8080/",
          "height": 51
        }
      },
      "source": [
        "# ad hoc updating\n",
        "a = 1\n",
        "b = 6\n",
        "print(a + b)\n",
        "a = 3\n",
        "b = 4\n",
        "print(a + b)"
      ],
      "execution_count": 0,
      "outputs": [
        {
          "output_type": "stream",
          "text": [
            "7\n",
            "7\n"
          ],
          "name": "stdout"
        }
      ]
    },
    {
      "cell_type": "code",
      "metadata": {
        "id": "FiWAnkIXXyYm",
        "colab_type": "code",
        "outputId": "3ebfe095-e6e5-45e2-8899-b10833ea1859",
        "colab": {}
      },
      "source": [
        "# systematic updating\n",
        "a = 1 \n",
        "b = 1\n",
        "print(a + b)\n",
        "a = 2\n",
        "print(a + b)\n",
        "a = 3\n",
        "print(a + b)\n",
        "a = 4\n",
        "print(a + b)\n",
        "a = 5\n",
        "print(a + b)"
      ],
      "execution_count": 0,
      "outputs": [
        {
          "output_type": "stream",
          "text": [
            "2\n",
            "3\n",
            "4\n",
            "5\n",
            "6\n"
          ],
          "name": "stdout"
        }
      ]
    },
    {
      "cell_type": "markdown",
      "metadata": {
        "id": "XnZfmKGMXyY6",
        "colab_type": "text"
      },
      "source": [
        "# While Loop\n",
        "\n",
        "- Loops are not simple repetitions - they are iterations with _slight_ differences every time.\n",
        "    - This is a benefit of using computers - they do well in these tasks\n",
        "- `while` statements are a popular type of loop in Python (as well as in other languages)\n",
        "\n",
        "```python\n",
        "n=5\n",
        "while n > 0:\n",
        "print(n)\n",
        "n=n-1 print('Blastoff!')\n",
        "```\n",
        "\n",
        "> _Psuedo Code: While n is greater than 0, display the value of n and then reduce the value of n by 1. When you get to 0, exit the while statement and display the word Blastoff!"
      ]
    },
    {
      "cell_type": "code",
      "metadata": {
        "id": "fd3hTvCNXyY-",
        "colab_type": "code",
        "outputId": "bf29a85a-a7d6-46c3-c2ba-cadf43b8a728",
        "colab": {}
      },
      "source": [
        "# loop variable\n",
        "n=5\n",
        "\n",
        "while n > 0: # loop condition\n",
        "    # loop body\n",
        "    print(n)\n",
        "    # changes value of loop variable\n",
        "    n=n-1 \n",
        "print('Blastoff!')\n"
      ],
      "execution_count": 0,
      "outputs": [
        {
          "output_type": "stream",
          "text": [
            "5\n",
            "4\n",
            "3\n",
            "2\n",
            "1\n",
            "Blastoff!\n"
          ],
          "name": "stdout"
        }
      ]
    },
    {
      "cell_type": "markdown",
      "metadata": {
        "id": "TWyEs18lXyZA",
        "colab_type": "text"
      },
      "source": [
        "# While Loop Flow of Execution\n",
        "\n",
        "1. Evaluate the condition, yielding True or False.\n",
        "2. If the condition is false, exit the while statement and continue execution at the next statement.\n",
        "3. If the condition is true, execute the body and then go back to step 1.\n",
        "\n",
        "- We call this type of execution a _loop_, and each execution an _iteration_.\n",
        "    - So code above has __five__ iterations\n",
        "- Loop is controlled by a _loop variable_\n",
        "    - loop variable changes value every iteration (e.g. `n`)\n",
        "    - Until the condition become `False` (`n > 0`)"
      ]
    },
    {
      "cell_type": "markdown",
      "metadata": {
        "id": "ng4zCZ-2XyZB",
        "colab_type": "text"
      },
      "source": [
        "# Infinite Loops\n",
        "\n",
        "- if there is no iteration variable, or the loop condition is always `True`, the loop will execute forever\n",
        "    - below is an example of infinite loop\n",
        "    \n",
        "```python\n",
        "# loop variable\n",
        "n=5\n",
        "\n",
        "while n > 0: # loop condition will always be true\n",
        "    # loop body\n",
        "    print(n)\n",
        "    # changes value of loop variable\n",
        "    # This creates the problem\n",
        "    n=n+1 \n",
        "# This will never be executed\n",
        "print('Blastoff!')\n",
        "```\n",
        "__NOTE:__ whenever write a loop, be careful about your loop variable and condition - to test if your programming logic is correct."
      ]
    },
    {
      "cell_type": "markdown",
      "metadata": {
        "id": "QTbVGPbjXyZC",
        "colab_type": "text"
      },
      "source": [
        "# How to Write Loops\n",
        "\n",
        "- To avoid infinite loops, there are several steps you need to take:\n",
        "    - Step 1: write the body of your iteration as an independent program first\n",
        "    - to test your loops, you should start with the beginning value, mid-point value, and the end value at least\n",
        "    \n",
        "```python\n",
        "line = input('> ') \n",
        "if line == 'done':\n",
        "    print(line)\n",
        "```\n"
      ]
    },
    {
      "cell_type": "code",
      "metadata": {
        "id": "jXbSB6PLXyZD",
        "colab_type": "code",
        "outputId": "2b1756d0-ff26-4636-83e0-67e1a85e8603",
        "colab": {}
      },
      "source": [
        "line = input('> ') \n",
        "if line == 'done':\n",
        "    print(line)"
      ],
      "execution_count": 0,
      "outputs": [
        {
          "output_type": "stream",
          "text": [
            "> done\n",
            "done\n"
          ],
          "name": "stdout"
        }
      ]
    },
    {
      "cell_type": "markdown",
      "metadata": {
        "id": "ar3aOdGQXyZJ",
        "colab_type": "text"
      },
      "source": [
        "# How to Write Loops\n",
        "\n",
        "- To avoid infinite loops, there are several steps you need to take:\n",
        "    - Step 2: when body is tested, wisely use `break` statement to stop the loop prematurely\n",
        "    - you shoudl also trace every iteration in a loop\n",
        "\n",
        "```python\n",
        "while True:\n",
        "    line = input('> ') if line == 'done':\n",
        "    break # stop loop\n",
        "    print(line)\n",
        "print('Done!')\n",
        "```\n",
        "\n",
        "- This way, you can avoid _infinite loop_ from happening.\n",
        "    - you should always write `break` in your loops\n",
        "    - you should comment out the `break` statement when finished testing"
      ]
    },
    {
      "cell_type": "code",
      "metadata": {
        "id": "q1X5-h9AXyZK",
        "colab_type": "code",
        "outputId": "f23271a8-c994-46ec-aca3-6a800433c57c",
        "colab": {}
      },
      "source": [
        "while True:\n",
        "    line = input('> ') \n",
        "    if line == 'done':\n",
        "        break\n",
        "        print(line)\n",
        "print('Done!')"
      ],
      "execution_count": 0,
      "outputs": [
        {
          "output_type": "stream",
          "text": [
            "> hello python!\n",
            "> done\n",
            "Done!\n"
          ],
          "name": "stdout"
        }
      ]
    },
    {
      "cell_type": "markdown",
      "metadata": {
        "id": "3erEVABDXyZQ",
        "colab_type": "text"
      },
      "source": [
        "# Finish Iteration with `continue`\n",
        "\n",
        "- Sometimes you may want to end the current iteration prematurely, and jump to next iteration\n",
        "    - In this case you can use `continue`\n",
        "    - Difference beteen `break` and `continue`:\n",
        "        - `break` jumps out of the _loop_ - no more iterations\n",
        "        - `continue` jumps out of the _interation_ - to the next iteration\n",
        "        \n",
        "See below example:"
      ]
    },
    {
      "cell_type": "code",
      "metadata": {
        "id": "GUmMHjAGXyZQ",
        "colab_type": "code",
        "outputId": "18e1cb14-b76e-4d4e-b423-db89741b0c7b",
        "colab": {}
      },
      "source": [
        "while True:\n",
        "    line = input('> ') \n",
        "    if line[0] == '#': # if you enter a text start with `#` then move to next iteration but not skip the loop\n",
        "        continue\n",
        "    if line == 'done':\n",
        "        break\n",
        "    print(line)\n",
        "print('Done!')"
      ],
      "execution_count": 0,
      "outputs": [
        {
          "output_type": "stream",
          "text": [
            "> hello python\n",
            "hello python\n",
            "> # don't print this\n",
            "> print this\n",
            "print this\n",
            "> done\n",
            "Done!\n"
          ],
          "name": "stdout"
        }
      ]
    },
    {
      "cell_type": "markdown",
      "metadata": {
        "id": "Hu5-B8x-XyZf",
        "colab_type": "text"
      },
      "source": [
        "# `for` Loops\n",
        "\n",
        "- `while` loops focus on the loop condition\n",
        "    - when condition is `True`, move on; otherwise, stop\n",
        "- `for` loop focus on the collection of items\n",
        "    - when there are more items, move on; at the end of collection, stop\n",
        "    \n",
        "See below example:"
      ]
    },
    {
      "cell_type": "code",
      "metadata": {
        "id": "kGMi_LUoXyZg",
        "colab_type": "code",
        "outputId": "b707e516-2f6c-4b36-ba05-00b8b95f56ed",
        "colab": {}
      },
      "source": [
        "# Collection of items\n",
        "friends = ['Joseph', 'Glenn', 'Sally'] \n",
        "# for each item in the collection\n",
        "for friend in friends:\n",
        "    # do something about the item (not collection)\n",
        "    print('Happy New Year:', friend)\n",
        "print('Done!')\n"
      ],
      "execution_count": 0,
      "outputs": [
        {
          "output_type": "stream",
          "text": [
            "Happy New Year: Joseph\n",
            "Happy New Year: Glenn\n",
            "Happy New Year: Sally\n",
            "Done!\n"
          ],
          "name": "stdout"
        }
      ]
    },
    {
      "cell_type": "markdown",
      "metadata": {
        "id": "XkJSRDcUXyZj",
        "colab_type": "text"
      },
      "source": [
        "# `for` Loops\n",
        "\n",
        "- In above example:\n",
        "    - Before `for` loops, you need to define the collection of items first\n",
        "    - then in each iteration in the `for` loop, each item is extracted from the list in order\n",
        "    - each iteration will do something about the current item\n",
        "    - in next iteration, the loop move on to the next item in the collect, and do something similar as the previous iteration\n",
        "    - after all items are exhausted from the collection, the loop ends\n",
        "    - in above example, `friend` is the loop variable\n",
        "    - loop condition is to _exhaust_ the collection"
      ]
    },
    {
      "cell_type": "markdown",
      "metadata": {
        "id": "lOxMcXZhXyZk",
        "colab_type": "text"
      },
      "source": [
        "# Common Loop Patterns\n",
        "\n",
        "- `for` and `while` loops are generally constructed by:\n",
        "    - Initializing one or more variables before the loop starts\n",
        "    - Performing some computation on each item in the loop body, possibly chang- ing the variables in the body of the loop\n",
        "    - Looking at the resulting variables when the loop completes\n",
        "    \n",
        "- Although we write loops for different reasons, there are some common patterns we use loops for\n"
      ]
    },
    {
      "cell_type": "markdown",
      "metadata": {
        "id": "yT_6VU-pXyZl",
        "colab_type": "text"
      },
      "source": [
        "# Common Loop Patterns\n",
        "\n",
        "- Counting and summing\n",
        "    - counting refers to count the number of items in a collecton\n",
        "        - for counting, you need to define a variable to store the count first (with an initial value of 0)\n",
        "        - in every iteration, you need to update the count variable (`count += 1`)\n",
        "        - after the loop ends, print out the value of the count variable"
      ]
    },
    {
      "cell_type": "code",
      "metadata": {
        "id": "A5i3wNniXyZn",
        "colab_type": "code",
        "outputId": "39ca42e4-6c60-4a4b-fc77-56f176077137",
        "colab": {}
      },
      "source": [
        "# define count variable\n",
        "count = 0\n",
        "\n",
        "# iterate through the collection with a for loop\n",
        "for itervar in [3, 41, 12, 9, 74, 15]:\n",
        "    # in every iteration, update the value of the count variable by 1\n",
        "    count += 1 # same as count = count + 1\n",
        "# print out the final value of the count variable\n",
        "print('Count: ', count)"
      ],
      "execution_count": 0,
      "outputs": [
        {
          "output_type": "stream",
          "text": [
            "Count:  6\n"
          ],
          "name": "stdout"
        }
      ]
    },
    {
      "cell_type": "markdown",
      "metadata": {
        "id": "IMOiBDUSXyZu",
        "colab_type": "text"
      },
      "source": [
        "# Common Loop Patterns\n",
        "\n",
        "- Counting and summing\n",
        "    - summing refers to the computation of total sum of all items in a collection\n",
        "        - for summing, you need to define a variable to store the sum first (with an initial value of 0)\n",
        "        - in every iteration, you need to update the sum variable by adding the element to the variable\n",
        "        - after the loop ends, print out the value of the sum variable"
      ]
    },
    {
      "cell_type": "code",
      "metadata": {
        "id": "F3ykTtDOXyZu",
        "colab_type": "code",
        "outputId": "a23e6f19-c0e8-4fd7-d40a-f90fcac9ceec",
        "colab": {}
      },
      "source": [
        "# define sum variable\n",
        "total = 0\n",
        "# iterate through the collection with a for loop\n",
        "for itervar in [3, 41, 12, 9, 74, 15]:\n",
        "    # in every iteration, update the value of the count variable by adding current element to it\n",
        "    total +=  itervar # total = total + itervar\n",
        "# print out the final value of the sum variable after loop\n",
        "print('Total: ', total)\n"
      ],
      "execution_count": 0,
      "outputs": [
        {
          "output_type": "stream",
          "text": [
            "Total:  154\n"
          ],
          "name": "stdout"
        }
      ]
    },
    {
      "cell_type": "markdown",
      "metadata": {
        "id": "dDvKUGdwXyZx",
        "colab_type": "text"
      },
      "source": [
        "# Common Loop Patterns\n",
        "\n",
        "- Maximum and minimum loops\n",
        "    - maximum loops find the element with the largest value in a collection\n",
        "        - you need to define the maximum variable to hold the candidate for maximal value (initial value as `None`)\n",
        "        - in every iteration, compare the current element with the maximum variable, if the current element is larger than the maximum variable, then assign the current element to the maximum variable\n",
        "        - after the loop ends, the largest value remains in the maximum variable"
      ]
    },
    {
      "cell_type": "code",
      "metadata": {
        "id": "aAm5D0G_XyZy",
        "colab_type": "code",
        "outputId": "148813d2-8aaa-4f52-f3ca-9482f24c67a5",
        "colab": {}
      },
      "source": [
        "# initialize the maximum variable `largest` with `None` value\n",
        "largest = None\n",
        "# print('Before:', largest)\n",
        "# iterate through the collection with a for loop\n",
        "for itervar in [3, 41, 12, 9, 74, 15]:\n",
        "    if (largest is None or itervar > largest): \n",
        "        largest = itervar\n",
        "    print('Loop:', itervar, largest)\n",
        "print('Largest:', largest)\n"
      ],
      "execution_count": 0,
      "outputs": [
        {
          "output_type": "stream",
          "text": [
            "Loop: 3 3\n",
            "Loop: 41 41\n",
            "Loop: 12 41\n",
            "Loop: 9 41\n",
            "Loop: 74 74\n",
            "Loop: 15 74\n",
            "Largest: 74\n"
          ],
          "name": "stdout"
        }
      ]
    },
    {
      "cell_type": "markdown",
      "metadata": {
        "id": "GzH6ezFpXyZ0",
        "colab_type": "text"
      },
      "source": [
        "# Common Loop Patterns\n",
        "- Maximum and minimum loops\n",
        "    - minimum loops find the element with the smallest value in a collection\n",
        "        - you need to define the minimum variable to hold the candidate for minimal value (initial value as `None`)\n",
        "        - in every iteration, compare the current element with the minimum variable, if the current element is smaller than the minimum variable, then assign the current element to the minimum variable\n",
        "        - after the loop ends, the largest value remains in the minimum variable"
      ]
    },
    {
      "cell_type": "code",
      "metadata": {
        "id": "zZrLDp5lXyZ1",
        "colab_type": "code",
        "outputId": "ea6b7344-84bb-450e-8ebf-5372ed1d3218",
        "colab": {}
      },
      "source": [
        "# initialize the minimum variable `smallest` with `None` value\n",
        "smallest = None\n",
        "# print('Before:', smallest)\n",
        "# iterate through the collection with a for loop\n",
        "for itervar in [3, 41, 12, 9, 74, 15]:\n",
        "    if smallest is None or itervar < smallest: \n",
        "        smallest = itervar\n",
        "    print('Loop:', itervar, smallest)\n",
        "print('Smallest:', smallest)\n"
      ],
      "execution_count": 0,
      "outputs": [
        {
          "output_type": "stream",
          "text": [
            "Loop: 3 3\n",
            "Loop: 41 3\n",
            "Loop: 12 3\n",
            "Loop: 9 3\n",
            "Loop: 74 3\n",
            "Loop: 15 3\n",
            "Smallest: 3\n"
          ],
          "name": "stdout"
        }
      ]
    },
    {
      "cell_type": "markdown",
      "metadata": {
        "id": "1Vyq4QVSXyZ4",
        "colab_type": "text"
      },
      "source": [
        "# Collection of Items\n",
        "\n",
        "- In Python, we have several data types that are _collections_ in nature \n",
        "    - we are going to cover __lists__, which is an important Python datatype, in next week\n",
        "    - although, there are other data types that are natively collections\n",
        "        - for instance, strings"
      ]
    },
    {
      "cell_type": "code",
      "metadata": {
        "id": "mnv1dpErXyZ5",
        "colab_type": "code",
        "outputId": "64a6dc8f-962d-4bdf-81b8-2d46e5013293",
        "colab": {}
      },
      "source": [
        "# See this example\n",
        "for c in 'Hello world!':\n",
        "    print(c) # each character is an element"
      ],
      "execution_count": 0,
      "outputs": [
        {
          "output_type": "stream",
          "text": [
            "H\n",
            "e\n",
            "l\n",
            "l\n",
            "o\n",
            " \n",
            "w\n",
            "o\n",
            "r\n",
            "l\n",
            "d\n",
            "!\n"
          ],
          "name": "stdout"
        }
      ]
    },
    {
      "cell_type": "code",
      "metadata": {
        "id": "j8HeNE-sXyZ_",
        "colab_type": "code",
        "outputId": "db94bdb4-ad8a-4612-e7ca-1944107a3517",
        "colab": {}
      },
      "source": [
        "# this string as well\n",
        "# However, if you change this into an integer, it will not be iterable\n",
        "for i in '123456':\n",
        "    print(i)"
      ],
      "execution_count": 0,
      "outputs": [
        {
          "output_type": "stream",
          "text": [
            "1\n",
            "2\n",
            "3\n",
            "4\n",
            "5\n",
            "6\n"
          ],
          "name": "stdout"
        }
      ]
    },
    {
      "cell_type": "markdown",
      "metadata": {
        "id": "zS3TpU4QXyaC",
        "colab_type": "text"
      },
      "source": [
        "# Loops and Functions\n",
        "\n",
        "- We already know that functions are reusable blocks of codes\n",
        "- Sometimes we can embed loops in functions\n",
        "    - particularly if we use _nested loops_ (discuss later), which mean a loop in a loop\n",
        "- Note that if you embed a loop in a function, the input (argument) of the function needs to be a _collection_"
      ]
    },
    {
      "cell_type": "code",
      "metadata": {
        "id": "KQ6OT2tXXyaD",
        "colab_type": "code",
        "outputId": "68c1d3ad-4ee0-4f48-f4aa-f0a9cbe780dc",
        "colab": {}
      },
      "source": [
        "my_lst = [3, 41, 12, 9, 74, 15]\n",
        "\n",
        "def minimal(values): \n",
        "    smallest = None\n",
        "    for value in values:\n",
        "        if smallest is None or value < smallest:\n",
        "            smallest = value \n",
        "    return smallest\n",
        "\n",
        "minimal(my_lst)"
      ],
      "execution_count": 0,
      "outputs": [
        {
          "output_type": "execute_result",
          "data": {
            "text/plain": [
              "3"
            ]
          },
          "metadata": {
            "tags": []
          },
          "execution_count": 20
        }
      ]
    },
    {
      "cell_type": "markdown",
      "metadata": {
        "id": "UZeqAgmYXyaG",
        "colab_type": "text"
      },
      "source": [
        "# Local and Global Variables\n",
        "\n",
        "- Python variables, like most other programming languages, has different coverage \n",
        "    - coverage means where the variable can be _called_\n",
        "    - _local_ variable means it covers part of the program\n",
        "        - for instance, loop variable, argument variable\n",
        "    - _global_ variable means it covers the whole program (after definition)\n",
        "    - coverage of variables is determined by where the definition is\n",
        "        - if the definition is _in_ a loop or a function, then it is a _local_ variable\n",
        "        - otherwise it is a _global_ variable"
      ]
    },
    {
      "cell_type": "code",
      "metadata": {
        "id": "GlkvA8GJXyaG",
        "colab_type": "code",
        "outputId": "fcb20eee-18e3-4e6c-b3fd-095bd44e73ee",
        "colab": {}
      },
      "source": [
        "# `smallest` is a global variable\n",
        "smallest = None\n",
        "# print('Before:', smallest)\n",
        "# iterate through the collection with a for loop\n",
        "# 'itervar' is a local variable\n",
        "for itervar in [3, 41, 12, 9, 74, 15]:\n",
        "    if smallest is None or itervar < smallest: \n",
        "        smallest = itervar\n",
        "    print('Loop:', itervar, smallest)\n",
        "print('Smallest:', smallest)\n"
      ],
      "execution_count": 0,
      "outputs": [
        {
          "output_type": "stream",
          "text": [
            "Loop: 3 3\n",
            "Loop: 41 3\n",
            "Loop: 12 3\n",
            "Loop: 9 3\n",
            "Loop: 74 3\n",
            "Loop: 15 3\n",
            "Smallest: 3\n"
          ],
          "name": "stdout"
        }
      ]
    },
    {
      "cell_type": "markdown",
      "metadata": {
        "id": "-t5gdw4oXyaK",
        "colab_type": "text"
      },
      "source": [
        "# Nested Loops\n",
        "\n",
        "- Nested loops are loops containing loops inside\n",
        "    - collections of items we have seen so far are 1-D \n",
        "        - e.g. `[1, 2, 3, 4, 5]`\n",
        "    - however, in data science, the most common data types are 2-D or even 3-D collections\n",
        "        - e.g.\n",
        " ```python\n",
        "[[1, 2, 3, 4, 5],\n",
        " [6, 7, 8, 9 , 10],\n",
        " [11, 12, 13, 14, 15]]\n",
        "```\n",
        "\n",
        "- These data types are normally generated using _nested loops_"
      ]
    },
    {
      "cell_type": "code",
      "metadata": {
        "id": "zU1ygAGEXyaP",
        "colab_type": "code",
        "outputId": "0939dc6f-7f53-441d-e1e2-602fa6a6efbf",
        "colab": {}
      },
      "source": [
        "for i in range(1,4):\n",
        "    for j in range(1,6):\n",
        "        print(i * j, end=\"   \")\n",
        "    print()"
      ],
      "execution_count": 0,
      "outputs": [
        {
          "output_type": "stream",
          "text": [
            "1   2   3   4   5   \n",
            "2   4   6   8   10   \n",
            "3   6   9   12   15   \n"
          ],
          "name": "stdout"
        }
      ]
    },
    {
      "cell_type": "code",
      "metadata": {
        "id": "tv6wj_XFXyaY",
        "colab_type": "code",
        "colab": {}
      },
      "source": [
        "# to go through these data types, we also need nested loops\n",
        "# See below example\n",
        "\n",
        "# each element in below variable is a student\n",
        "# in each element there is a list containing the courses the student has taken, which is also a list\n",
        "# so essentially `students` is a 2-D data type\n",
        "students = [\n",
        "    (\"John\", [\"CompSci\", \"Physics\"]),\n",
        "    (\"Vusi\", [\"Maths\", \"CompSci\", \"Stats\"]),\n",
        "    (\"Jess\", [\"CompSci\", \"Accounting\", \"Economics\", \"Management\"]),\n",
        "    (\"Sarah\", [\"InfSys\", \"Accounting\", \"Economics\", \"CommLaw\"]),\n",
        "    (\"Zuki\", [\"Sociology\", \"Economics\", \"Law\", \"Stats\", \"Music\"])]"
      ],
      "execution_count": 0,
      "outputs": []
    },
    {
      "cell_type": "code",
      "metadata": {
        "id": "kHeAPk2nXyab",
        "colab_type": "code",
        "outputId": "ebf30c8f-e9f2-43a2-e282-7618a7977f75",
        "colab": {}
      },
      "source": [
        "# let's see what a regular loop can do\n",
        "# Print all students with a count of their courses.\n",
        "for (name, subjects) in students:\n",
        "    print(name, \"takes\", len(subjects), \"courses\")"
      ],
      "execution_count": 0,
      "outputs": [
        {
          "output_type": "stream",
          "text": [
            "John takes 2 courses\n",
            "Vusi takes 3 courses\n",
            "Jess takes 4 courses\n",
            "Sarah takes 4 courses\n",
            "Zuki takes 5 courses\n"
          ],
          "name": "stdout"
        }
      ]
    },
    {
      "cell_type": "code",
      "metadata": {
        "id": "GDW90x9uXyag",
        "colab_type": "code",
        "outputId": "526ec852-848c-4e12-d7f3-8e43b54ffe7d",
        "colab": {}
      },
      "source": [
        "# However, when we need to access elements in the inner lists (courses)\n",
        "# we need to use a nested loop\n",
        "\n",
        "# Count how many students are taking CompSci\n",
        "counter = 0\n",
        "for (name, subjects) in students:\n",
        "    for s in subjects:                 # A nested loop!\n",
        "        if s == \"CompSci\":\n",
        "            counter += 1\n",
        "\n",
        "print(\"The number of students taking CompSci is\", counter)"
      ],
      "execution_count": 0,
      "outputs": [
        {
          "output_type": "stream",
          "text": [
            "The number of students taking CompSci is 3\n"
          ],
          "name": "stdout"
        }
      ]
    },
    {
      "cell_type": "markdown",
      "metadata": {
        "id": "LGVSu9QzXyam",
        "colab_type": "text"
      },
      "source": [
        "# Your Turn Here\n",
        "Finish exercises below by following instructions of each of them. \n",
        "\n",
        "Make sure you provide proper __pseudo code__ for each of your program."
      ]
    },
    {
      "cell_type": "markdown",
      "metadata": {
        "id": "pDO5WzqoXyan",
        "colab_type": "text"
      },
      "source": [
        "## Q1. Code Problem\n",
        "\n",
        "Suppose two players (A, B) play a game of dice. Each player has a regular 6-sided dice (1 - 6). \n",
        "\n",
        "In each round, the player with larger number on the dice wins - the results is the winning player (A or B); if tied, then the result is 'tied'.\n",
        "\n",
        "The game has ten (10) rounds, write a function to record the results of the game.\n",
        "\n",
        "Example:\n",
        "If A rolls a 6 and B rolls a 4 in a round, output is 'A';\n",
        "If A rolls a 3 and B rools a 3 in a round, output is 'tied'.\n",
        "\n",
        "\n",
        "Use the code block below to complete your code. Remember to use loop to rebuild this program.\n",
        "\n",
        "__NOTE__: last week we try run the function 10 times, now we can use loop for this."
      ]
    },
    {
      "cell_type": "code",
      "metadata": {
        "id": "PPu2vCJvXyao",
        "colab_type": "code",
        "colab": {}
      },
      "source": [
        ""
      ],
      "execution_count": 0,
      "outputs": []
    },
    {
      "cell_type": "markdown",
      "metadata": {
        "id": "P-Gxlb40Xyaw",
        "colab_type": "text"
      },
      "source": [
        "## Q2. Code Completion Problem\n",
        "\n",
        "Weite a function to check if a list contains an element.\n",
        "- Use a random integer generator to generate an integer (`i`) between 0 and 5;\n",
        "- Based on the value of `i`, generate a list (`int_lst`) of integers (between 0 and 9) with length of `i`;\n",
        "    - you need to use a `for` loop here\n",
        "- Use a random integer generator to generate an integer (`j`) between 0 and 9;\n",
        "- Check if any element in `int_lst` equals to `j`.\n",
        "    - output `int_lst` and `j`\n",
        "    - if `int_lst` contains `j` then output `found!`\n",
        "    - otherwise output `not found!`"
      ]
    },
    {
      "cell_type": "code",
      "metadata": {
        "id": "vgNcb56zXyaz",
        "colab_type": "code",
        "colab": {}
      },
      "source": [
        "import random\n",
        "\n",
        "# generate random integer list of random length\n",
        "def lst_gen():\n",
        "    int_lst = []\n",
        "    i =  # complete code here to generate a value between 0 and 5\n",
        "    # generates `i` random integers and store them in `int_lst`\n",
        "    for x in range(i + 1):\n",
        "        rand_int =  # complete code here to generate a value between 0 and 9\n",
        "        int_lst.append(rand_int)\n",
        "    \n",
        "    return(int_lst)\n",
        "\n",
        "# check if `int_lst` contains `j`\n",
        "def lst_check():\n",
        "    j = # complete code here to generate a value between 0 and 9\n",
        "    int_lst = lst_gen()\n",
        "    # write code here to output `int_lst` and `j`\n",
        "    # complete code below to iterate through `int_lst`\n",
        "    # for \n",
        "        # check if `int_lst` contains `j` by comparing elements with j (`==`)\n",
        "        \n",
        "            # if found print `found!`\n",
        "            print('found!')\n",
        "    # otherwise print `not found!`\n",
        "    print('not found!')"
      ],
      "execution_count": 0,
      "outputs": []
    },
    {
      "cell_type": "code",
      "metadata": {
        "id": "vyfIIaj6Xya3",
        "colab_type": "code",
        "outputId": "5b496bf1-6c90-4677-e462-41a07150c93d",
        "colab": {}
      },
      "source": [
        "# test your function\n",
        "lst_check()"
      ],
      "execution_count": 0,
      "outputs": [
        {
          "output_type": "stream",
          "text": [
            "7 [5, 5, 0, 4, 1]\n",
            "not found\n"
          ],
          "name": "stdout"
        }
      ]
    },
    {
      "cell_type": "markdown",
      "metadata": {
        "id": "lBppo14NXya5",
        "colab_type": "text"
      },
      "source": [
        "## Q3. Coding Problem\n",
        "\n",
        "Write a function to calculate the mean of a colletion of 10 integers, using the equation below.\n",
        "\n",
        "$ mean = \\frac{sum}{count} $\n",
        "\n",
        "`sum` is the total sum of all integers, `count` is the number of integers (`count = 10`).\n",
        "\n",
        "- use random integer generator to generate 10 integers between 0 and 100\n",
        "- calculate the sum of all 10 integers\n",
        "- calculate the mean\n",
        "\n",
        "Use the code block below to write and test your function."
      ]
    },
    {
      "cell_type": "code",
      "metadata": {
        "id": "3i-oC7PoXya7",
        "colab_type": "code",
        "colab": {}
      },
      "source": [
        ""
      ],
      "execution_count": 0,
      "outputs": []
    },
    {
      "cell_type": "markdown",
      "metadata": {
        "id": "iPFeGyhMXya_",
        "colab_type": "text"
      },
      "source": [
        "## Q4. Coding Problem\n",
        "\n",
        "Write a function to generate a simple histogram based on a collection of random integers.\n",
        "- A function is provided to you to generate a list of random integers;\n",
        "- Your job is to take every element in the list:\n",
        "    - based on the value of the element, print dashes (`-`)\n",
        "    - at the end of each dash sequence, print `|`"
      ]
    },
    {
      "cell_type": "code",
      "metadata": {
        "id": "1C0bOenKXybA",
        "colab_type": "code",
        "outputId": "ef814769-6470-4c85-aa70-2e1049ce6017",
        "colab": {}
      },
      "source": [
        "import random\n",
        "def random_lst_gen(x = 10):\n",
        "    random_lst = []\n",
        "    for i in range(x):\n",
        "        random_lst.append(random.randint(1, 9))\n",
        "    return random_lst\n",
        "\n",
        "my_lst = random_lst_gen()\n",
        "my_lst"
      ],
      "execution_count": 0,
      "outputs": [
        {
          "output_type": "execute_result",
          "data": {
            "text/plain": [
              "[4, 8, 9, 9, 8, 1, 1, 3, 8, 7]"
            ]
          },
          "metadata": {
            "tags": []
          },
          "execution_count": 35
        }
      ]
    },
    {
      "cell_type": "code",
      "metadata": {
        "id": "AzkkZwK9XybG",
        "colab_type": "code",
        "colab": {}
      },
      "source": [
        "# write your function here \n",
        "def my_hist(my_lst):\n",
        "    # complete the code here\n",
        "    \n",
        "    \n",
        "    \n",
        "my_hist(my_lst)"
      ],
      "execution_count": 0,
      "outputs": []
    },
    {
      "cell_type": "markdown",
      "metadata": {
        "id": "E9hTOOYRXybI",
        "colab_type": "text"
      },
      "source": [
        "## Q5. Check Factors\n",
        "\n",
        "Write a function to find all factors of a random integer between 1 and 50.\n",
        "- A factor is an integer divides another integer evenly [ref](https://www.britannica.com/science/factor-mathematics).\n",
        "\n",
        "Example input and output:\n",
        "```\n",
        "8 -> 1, 2, 4, 8\n",
        "13 -> 1, 13\n",
        "```\n",
        "\n",
        "__HINT:__ you should iterate from 1 to the random integer, and use residual (`%`) to check if the current number is a factor.\n",
        "\n",
        "Use the code block below to write and test your function."
      ]
    },
    {
      "cell_type": "code",
      "metadata": {
        "id": "G1ZInugOXybI",
        "colab_type": "code",
        "colab": {}
      },
      "source": [
        ""
      ],
      "execution_count": 0,
      "outputs": []
    },
    {
      "cell_type": "markdown",
      "metadata": {
        "id": "Q6IEXyRdXybK",
        "colab_type": "text"
      },
      "source": [
        "# Classwork (start here in class)\n",
        "You can start working on them right now:\n",
        "- Read Chapter 5 in PY4E\n",
        "- If time permits, start in on your homework. \n",
        "- Ask questions when you need help. Use this time to get help from the professor!\n",
        "\n",
        "# Homework (do at home)\n",
        "The following is due before class next week:\n",
        "  - Any remaining classwork from tonight\n",
        "  - Data Camp “Loops” assignment \n",
        "\n",
        "Note: All work on Data Camp is logged. Don't try to fake it!\n",
        "\n",
        "Please email jtao@fairfield.edu if you have any problems or questions."
      ]
    },
    {
      "cell_type": "markdown",
      "metadata": {
        "id": "uaeMewEgXybK",
        "colab_type": "text"
      },
      "source": [
        "![DSB Logo](https://github.com/DrJieTao/ba505-docs/blob/master/slides/img/Dolan.jpg?raw=1)\n",
        "# Python Essentials: Iterations\n",
        "## PY4E Chapter 5\n",
        "### What you must know about Python"
      ]
    },
    {
      "cell_type": "code",
      "metadata": {
        "id": "7vDBiiLQXybL",
        "colab_type": "code",
        "colab": {}
      },
      "source": [
        ""
      ],
      "execution_count": 0,
      "outputs": []
    }
  ]
}