{
  "nbformat": 4,
  "nbformat_minor": 0,
  "metadata": {
    "celltoolbar": "Slideshow",
    "kernelspec": {
      "display_name": "Python [conda env:tf_gpu] *",
      "language": "python",
      "name": "conda-env-tf_gpu-py"
    },
    "language_info": {
      "codemirror_mode": {
        "name": "ipython",
        "version": 3
      },
      "file_extension": ".py",
      "mimetype": "text/x-python",
      "name": "python",
      "nbconvert_exporter": "python",
      "pygments_lexer": "ipython3",
      "version": "3.7.3"
    },
    "colab": {
      "name": "Copy of Lecture12-groupby_and_pivot.ipynb",
      "provenance": [],
      "include_colab_link": true
    }
  },
  "cells": [
    {
      "cell_type": "markdown",
      "metadata": {
        "id": "view-in-github",
        "colab_type": "text"
      },
      "source": [
        "<a href=\"https://colab.research.google.com/github/ypff/new-test/blob/master/Copy_of_Lecture12_groupby_and_pivot.ipynb\" target=\"_parent\"><img src=\"https://colab.research.google.com/assets/colab-badge.svg\" alt=\"Open In Colab\"/></a>"
      ]
    },
    {
      "cell_type": "markdown",
      "metadata": {
        "id": "D1YRpG5zPAz0",
        "colab_type": "text"
      },
      "source": [
        "![DSB logo](https://github.com/DrJieTao/BA505-Slides/blob/master/img/Dolan.jpg?raw=1)\n",
        "# Groupby and Pivoting\n",
        "\n",
        "## PD4E Chapter 10: Groupby Operations: Split-Apply-Combine\n",
        "### How do you read/manipulate/store data in Python?"
      ]
    },
    {
      "cell_type": "markdown",
      "metadata": {
        "id": "Uy__wWBkPAz5",
        "colab_type": "text"
      },
      "source": [
        "# What You Learned in Python/Pandas that could Apply Here\n",
        "\n",
        "You will need following knowledge from the first half of this course:\n",
        "1. functions\n",
        "2. subsetting/slicing data"
      ]
    },
    {
      "cell_type": "markdown",
      "metadata": {
        "id": "ACyuRps9PAz6",
        "colab_type": "text"
      },
      "source": [
        "# What You will Learn in this Chapter\n",
        "\n",
        "You will learn following techniques in this chapter:\n",
        "1. Groupby operations to aggregate, transform, and filter data\n",
        "2. Built-in and custom user function to perform groupby functions\n",
        "3. creating _pivot tables_ from DataFrames"
      ]
    },
    {
      "cell_type": "markdown",
      "metadata": {
        "id": "8APicKX_PAz7",
        "colab_type": "text"
      },
      "source": [
        "# What do we mean by Groupby operations?\n",
        "\n",
        "- Groupby operations is how we aggregate, transform and filter data\n",
        "    - you will learn the `SQL GROUPBY` in BA 510\n",
        "- We follow the mantra below:\n",
        "    - data is separated into different parts based on their feature(s);\n",
        "    - we apply applicable function(s) to different parts of the data;\n",
        "    - then we combine different parts of processed data back as the result."
      ]
    },
    {
      "cell_type": "markdown",
      "metadata": {
        "id": "ITEBr8VOPAz9",
        "colab_type": "text"
      },
      "source": [
        "# Why do we need to do this?\n",
        "\n",
        "- we may need to select subsets of a DataFrame using certain conditions\n",
        "    - like how we calculate the `final_pay` based on `work_load` last week\n",
        "- or in data analytics\n",
        "    - we have different standardized processing pipelines for _categorical_ and _continuous_ features"
      ]
    },
    {
      "cell_type": "markdown",
      "metadata": {
        "id": "w4N2oecePAz-",
        "colab_type": "text"
      },
      "source": [
        "# Aggregation\n",
        "\n",
        "- Aggregation is a term we use in databases, or particularly data warehouses\n",
        "    - aggregation also known as summarization, it means data reduction\n",
        "    - most of descriptive stats, such as count, mean, standard deviation, are summarization methods\n",
        "    - the data size is essentially smaller"
      ]
    },
    {
      "cell_type": "markdown",
      "metadata": {
        "id": "rIJEo22sPA0B",
        "colab_type": "text"
      },
      "source": [
        "# Aggregation Examples\n",
        "\n",
        "- it refers to moving from a more specific data to a more abstract level\n",
        "    - e.g., if the actual data is daily-based, and we want to get the monthly sum/average of the data\n",
        "    - or if the observation are scattered in different years, and we want to look at the annual averages"
      ]
    },
    {
      "cell_type": "code",
      "metadata": {
        "id": "TH7t1tOJPA0D",
        "colab_type": "code",
        "outputId": "83792263-d731-4239-8bb7-3a6832618eef",
        "colab": {}
      },
      "source": [
        "# an example of aggregation\n",
        "# load the gapminder data\n",
        "# please change your PATH to `'/srv/data/my_shared_data_folder/ba505-data/gapminder.tsv'`\n",
        "import pandas as pd\n",
        "df = pd.read_csv('./data/gapminder.tsv', sep='\\t')\n",
        "df.head(3)"
      ],
      "execution_count": 0,
      "outputs": [
        {
          "output_type": "execute_result",
          "data": {
            "text/html": [
              "<div>\n",
              "<style scoped>\n",
              "    .dataframe tbody tr th:only-of-type {\n",
              "        vertical-align: middle;\n",
              "    }\n",
              "\n",
              "    .dataframe tbody tr th {\n",
              "        vertical-align: top;\n",
              "    }\n",
              "\n",
              "    .dataframe thead th {\n",
              "        text-align: right;\n",
              "    }\n",
              "</style>\n",
              "<table border=\"1\" class=\"dataframe\">\n",
              "  <thead>\n",
              "    <tr style=\"text-align: right;\">\n",
              "      <th></th>\n",
              "      <th>country</th>\n",
              "      <th>continent</th>\n",
              "      <th>year</th>\n",
              "      <th>lifeExp</th>\n",
              "      <th>pop</th>\n",
              "      <th>gdpPercap</th>\n",
              "    </tr>\n",
              "  </thead>\n",
              "  <tbody>\n",
              "    <tr>\n",
              "      <th>0</th>\n",
              "      <td>Afghanistan</td>\n",
              "      <td>Asia</td>\n",
              "      <td>1952</td>\n",
              "      <td>28.801</td>\n",
              "      <td>8425333</td>\n",
              "      <td>779.445314</td>\n",
              "    </tr>\n",
              "    <tr>\n",
              "      <th>1</th>\n",
              "      <td>Afghanistan</td>\n",
              "      <td>Asia</td>\n",
              "      <td>1957</td>\n",
              "      <td>30.332</td>\n",
              "      <td>9240934</td>\n",
              "      <td>820.853030</td>\n",
              "    </tr>\n",
              "    <tr>\n",
              "      <th>2</th>\n",
              "      <td>Afghanistan</td>\n",
              "      <td>Asia</td>\n",
              "      <td>1962</td>\n",
              "      <td>31.997</td>\n",
              "      <td>10267083</td>\n",
              "      <td>853.100710</td>\n",
              "    </tr>\n",
              "  </tbody>\n",
              "</table>\n",
              "</div>"
            ],
            "text/plain": [
              "       country continent  year  lifeExp       pop   gdpPercap\n",
              "0  Afghanistan      Asia  1952   28.801   8425333  779.445314\n",
              "1  Afghanistan      Asia  1957   30.332   9240934  820.853030\n",
              "2  Afghanistan      Asia  1962   31.997  10267083  853.100710"
            ]
          },
          "metadata": {
            "tags": []
          },
          "execution_count": 1
        }
      ]
    },
    {
      "cell_type": "code",
      "metadata": {
        "id": "W5YszoFcPA0H",
        "colab_type": "code",
        "outputId": "49229d62-5add-42ed-b6bb-85e2fe9b8872",
        "colab": {}
      },
      "source": [
        "# calculate the annual average life expectancy for each year\n",
        "df.groupby('year')['lifeExp'].mean()"
      ],
      "execution_count": 0,
      "outputs": [
        {
          "output_type": "execute_result",
          "data": {
            "text/plain": [
              "year\n",
              "1952    49.057620\n",
              "1957    51.507401\n",
              "1962    53.609249\n",
              "1967    55.678290\n",
              "1972    57.647386\n",
              "1977    59.570157\n",
              "1982    61.533197\n",
              "1987    63.212613\n",
              "1992    64.160338\n",
              "1997    65.014676\n",
              "2002    65.694923\n",
              "2007    67.007423\n",
              "Name: lifeExp, dtype: float64"
            ]
          },
          "metadata": {
            "tags": []
          },
          "execution_count": 2
        }
      ]
    },
    {
      "cell_type": "code",
      "metadata": {
        "id": "BBSnc_gUPA0J",
        "colab_type": "code",
        "outputId": "cd06b968-9cd8-4227-dff0-3f481f7be466",
        "colab": {}
      },
      "source": [
        "# this is the longer alternative\n",
        "df['year'].unique()"
      ],
      "execution_count": 0,
      "outputs": [
        {
          "output_type": "execute_result",
          "data": {
            "text/plain": [
              "array([1952, 1957, 1962, 1967, 1972, 1977, 1982, 1987, 1992, 1997, 2002,\n",
              "       2007])"
            ]
          },
          "metadata": {
            "tags": []
          },
          "execution_count": 3
        }
      ]
    },
    {
      "cell_type": "code",
      "metadata": {
        "id": "ycJikH6DPA0M",
        "colab_type": "code",
        "outputId": "8508922e-1bab-4000-e77d-cddb2e6df0b4",
        "colab": {}
      },
      "source": [
        "df1952 = df[df['year'] == 1952]\n",
        "df1952mean = df1952['lifeExp'].mean()\n",
        "df1952mean"
      ],
      "execution_count": 0,
      "outputs": [
        {
          "output_type": "execute_result",
          "data": {
            "text/plain": [
              "49.057619718309866"
            ]
          },
          "metadata": {
            "tags": []
          },
          "execution_count": 4
        }
      ]
    },
    {
      "cell_type": "markdown",
      "metadata": {
        "id": "Q6ukxVOnPA0O",
        "colab_type": "text"
      },
      "source": [
        "# Built-in Aggregation Methods\n",
        "\n",
        "- In above example, you noticed that we calculate the average life expactacies for each individual year\n",
        "    - average is one of the __aggregation method__\n",
        "    - there are other aggregation methods available\n",
        "    - refer to PD4E pp. 192 for all applicable aggregation methods"
      ]
    },
    {
      "cell_type": "code",
      "metadata": {
        "id": "DZMDcma7PA0P",
        "colab_type": "code",
        "outputId": "4ba404dd-d0aa-4f3c-c540-9bc8436efc28",
        "colab": {}
      },
      "source": [
        "# note that ball  columns in the \n",
        "# results below can be aggregation methods\n",
        "df.groupby('continent')['lifeExp'].describe()"
      ],
      "execution_count": 0,
      "outputs": [
        {
          "output_type": "execute_result",
          "data": {
            "text/html": [
              "<div>\n",
              "<style scoped>\n",
              "    .dataframe tbody tr th:only-of-type {\n",
              "        vertical-align: middle;\n",
              "    }\n",
              "\n",
              "    .dataframe tbody tr th {\n",
              "        vertical-align: top;\n",
              "    }\n",
              "\n",
              "    .dataframe thead th {\n",
              "        text-align: right;\n",
              "    }\n",
              "</style>\n",
              "<table border=\"1\" class=\"dataframe\">\n",
              "  <thead>\n",
              "    <tr style=\"text-align: right;\">\n",
              "      <th></th>\n",
              "      <th>count</th>\n",
              "      <th>mean</th>\n",
              "      <th>std</th>\n",
              "      <th>min</th>\n",
              "      <th>25%</th>\n",
              "      <th>50%</th>\n",
              "      <th>75%</th>\n",
              "      <th>max</th>\n",
              "    </tr>\n",
              "    <tr>\n",
              "      <th>continent</th>\n",
              "      <th></th>\n",
              "      <th></th>\n",
              "      <th></th>\n",
              "      <th></th>\n",
              "      <th></th>\n",
              "      <th></th>\n",
              "      <th></th>\n",
              "      <th></th>\n",
              "    </tr>\n",
              "  </thead>\n",
              "  <tbody>\n",
              "    <tr>\n",
              "      <th>Africa</th>\n",
              "      <td>624.0</td>\n",
              "      <td>48.865330</td>\n",
              "      <td>9.150210</td>\n",
              "      <td>23.599</td>\n",
              "      <td>42.37250</td>\n",
              "      <td>47.7920</td>\n",
              "      <td>54.41150</td>\n",
              "      <td>76.442</td>\n",
              "    </tr>\n",
              "    <tr>\n",
              "      <th>Americas</th>\n",
              "      <td>300.0</td>\n",
              "      <td>64.658737</td>\n",
              "      <td>9.345088</td>\n",
              "      <td>37.579</td>\n",
              "      <td>58.41000</td>\n",
              "      <td>67.0480</td>\n",
              "      <td>71.69950</td>\n",
              "      <td>80.653</td>\n",
              "    </tr>\n",
              "    <tr>\n",
              "      <th>Asia</th>\n",
              "      <td>396.0</td>\n",
              "      <td>60.064903</td>\n",
              "      <td>11.864532</td>\n",
              "      <td>28.801</td>\n",
              "      <td>51.42625</td>\n",
              "      <td>61.7915</td>\n",
              "      <td>69.50525</td>\n",
              "      <td>82.603</td>\n",
              "    </tr>\n",
              "    <tr>\n",
              "      <th>Europe</th>\n",
              "      <td>360.0</td>\n",
              "      <td>71.903686</td>\n",
              "      <td>5.433178</td>\n",
              "      <td>43.585</td>\n",
              "      <td>69.57000</td>\n",
              "      <td>72.2410</td>\n",
              "      <td>75.45050</td>\n",
              "      <td>81.757</td>\n",
              "    </tr>\n",
              "    <tr>\n",
              "      <th>Oceania</th>\n",
              "      <td>24.0</td>\n",
              "      <td>74.326208</td>\n",
              "      <td>3.795611</td>\n",
              "      <td>69.120</td>\n",
              "      <td>71.20500</td>\n",
              "      <td>73.6650</td>\n",
              "      <td>77.55250</td>\n",
              "      <td>81.235</td>\n",
              "    </tr>\n",
              "  </tbody>\n",
              "</table>\n",
              "</div>"
            ],
            "text/plain": [
              "           count       mean        std     min       25%      50%       75%  \\\n",
              "continent                                                                     \n",
              "Africa     624.0  48.865330   9.150210  23.599  42.37250  47.7920  54.41150   \n",
              "Americas   300.0  64.658737   9.345088  37.579  58.41000  67.0480  71.69950   \n",
              "Asia       396.0  60.064903  11.864532  28.801  51.42625  61.7915  69.50525   \n",
              "Europe     360.0  71.903686   5.433178  43.585  69.57000  72.2410  75.45050   \n",
              "Oceania     24.0  74.326208   3.795611  69.120  71.20500  73.6650  77.55250   \n",
              "\n",
              "              max  \n",
              "continent          \n",
              "Africa     76.442  \n",
              "Americas   80.653  \n",
              "Asia       82.603  \n",
              "Europe     81.757  \n",
              "Oceania    81.235  "
            ]
          },
          "metadata": {
            "tags": []
          },
          "execution_count": 5
        }
      ]
    },
    {
      "cell_type": "markdown",
      "metadata": {
        "id": "CLdpdQ6EPA0R",
        "colab_type": "text"
      },
      "source": [
        "# Aggregation Methods\n",
        "\n",
        "- So far we have been using aggregation methods directly\n",
        "- but in general we can use the `.agg()` method for any aggregation function\n",
        "    - you should consider `.agg()` as a special case of `.apply()`\n",
        "- there are two use cases for using `.agg()`\n",
        "    - we can only use `pandas` built-in aggregation methods (column 1 in Table 10.1) directly, but sometimes we prefer using the `numpy` alternatives (column 2 in Table 10.1) - since they are much faster\n",
        "    - we can even use custom aggregation functions/methods"
      ]
    },
    {
      "cell_type": "code",
      "metadata": {
        "id": "6FR5Ej4gPA0S",
        "colab_type": "code",
        "outputId": "b7039a1b-c64c-4f88-d20d-f1d77aa1f742",
        "colab": {}
      },
      "source": [
        "# numpy method\n",
        "%time\n",
        "import numpy as np\n",
        "df.groupby('continent')['lifeExp'].agg(np.mean)"
      ],
      "execution_count": 0,
      "outputs": [
        {
          "output_type": "stream",
          "text": [
            "CPU times: user 2 µs, sys: 0 ns, total: 2 µs\n",
            "Wall time: 5.01 µs\n"
          ],
          "name": "stdout"
        },
        {
          "output_type": "execute_result",
          "data": {
            "text/plain": [
              "continent\n",
              "Africa      48.865330\n",
              "Americas    64.658737\n",
              "Asia        60.064903\n",
              "Europe      71.903686\n",
              "Oceania     74.326208\n",
              "Name: lifeExp, dtype: float64"
            ]
          },
          "metadata": {
            "tags": []
          },
          "execution_count": 6
        }
      ]
    },
    {
      "cell_type": "code",
      "metadata": {
        "id": "ogbPwPySPA0Y",
        "colab_type": "code",
        "colab": {}
      },
      "source": [
        "# custom aggregation function\n",
        "def my_mean(values): # our own version of mean calculation\n",
        "    # get total number of values\n",
        "    return sum(values)/len(values)"
      ],
      "execution_count": 0,
      "outputs": []
    },
    {
      "cell_type": "code",
      "metadata": {
        "id": "OheAbiFDPA0a",
        "colab_type": "code",
        "outputId": "80bd38c6-36df-4d6c-908e-b9c7b4fde070",
        "colab": {}
      },
      "source": [
        "df.groupby('continent')['lifeExp'].agg(my_mean)"
      ],
      "execution_count": 0,
      "outputs": [
        {
          "output_type": "execute_result",
          "data": {
            "text/plain": [
              "continent\n",
              "Africa      48.865330\n",
              "Americas    64.658737\n",
              "Asia        60.064903\n",
              "Europe      71.903686\n",
              "Oceania     74.326208\n",
              "Name: lifeExp, dtype: float64"
            ]
          },
          "metadata": {
            "tags": []
          },
          "execution_count": 8
        }
      ]
    },
    {
      "cell_type": "code",
      "metadata": {
        "id": "yb1PKBqIPA0c",
        "colab_type": "code",
        "outputId": "23ba333b-c20a-42bd-c6e5-4eed862eb544",
        "colab": {}
      },
      "source": [
        "# multiple aggregation function siultaneously\n",
        "df.groupby('continent')['lifeExp'].agg([np.count_nonzero, \n",
        "                                        np.mean, np.std, np.min, np.max])"
      ],
      "execution_count": 0,
      "outputs": [
        {
          "output_type": "execute_result",
          "data": {
            "text/html": [
              "<div>\n",
              "<style scoped>\n",
              "    .dataframe tbody tr th:only-of-type {\n",
              "        vertical-align: middle;\n",
              "    }\n",
              "\n",
              "    .dataframe tbody tr th {\n",
              "        vertical-align: top;\n",
              "    }\n",
              "\n",
              "    .dataframe thead th {\n",
              "        text-align: right;\n",
              "    }\n",
              "</style>\n",
              "<table border=\"1\" class=\"dataframe\">\n",
              "  <thead>\n",
              "    <tr style=\"text-align: right;\">\n",
              "      <th></th>\n",
              "      <th>count_nonzero</th>\n",
              "      <th>mean</th>\n",
              "      <th>std</th>\n",
              "      <th>amin</th>\n",
              "      <th>amax</th>\n",
              "    </tr>\n",
              "    <tr>\n",
              "      <th>continent</th>\n",
              "      <th></th>\n",
              "      <th></th>\n",
              "      <th></th>\n",
              "      <th></th>\n",
              "      <th></th>\n",
              "    </tr>\n",
              "  </thead>\n",
              "  <tbody>\n",
              "    <tr>\n",
              "      <th>Africa</th>\n",
              "      <td>624.0</td>\n",
              "      <td>48.865330</td>\n",
              "      <td>9.150210</td>\n",
              "      <td>23.599</td>\n",
              "      <td>76.442</td>\n",
              "    </tr>\n",
              "    <tr>\n",
              "      <th>Americas</th>\n",
              "      <td>300.0</td>\n",
              "      <td>64.658737</td>\n",
              "      <td>9.345088</td>\n",
              "      <td>37.579</td>\n",
              "      <td>80.653</td>\n",
              "    </tr>\n",
              "    <tr>\n",
              "      <th>Asia</th>\n",
              "      <td>396.0</td>\n",
              "      <td>60.064903</td>\n",
              "      <td>11.864532</td>\n",
              "      <td>28.801</td>\n",
              "      <td>82.603</td>\n",
              "    </tr>\n",
              "    <tr>\n",
              "      <th>Europe</th>\n",
              "      <td>360.0</td>\n",
              "      <td>71.903686</td>\n",
              "      <td>5.433178</td>\n",
              "      <td>43.585</td>\n",
              "      <td>81.757</td>\n",
              "    </tr>\n",
              "    <tr>\n",
              "      <th>Oceania</th>\n",
              "      <td>24.0</td>\n",
              "      <td>74.326208</td>\n",
              "      <td>3.795611</td>\n",
              "      <td>69.120</td>\n",
              "      <td>81.235</td>\n",
              "    </tr>\n",
              "  </tbody>\n",
              "</table>\n",
              "</div>"
            ],
            "text/plain": [
              "           count_nonzero       mean        std    amin    amax\n",
              "continent                                                     \n",
              "Africa             624.0  48.865330   9.150210  23.599  76.442\n",
              "Americas           300.0  64.658737   9.345088  37.579  80.653\n",
              "Asia               396.0  60.064903  11.864532  28.801  82.603\n",
              "Europe             360.0  71.903686   5.433178  43.585  81.757\n",
              "Oceania             24.0  74.326208   3.795611  69.120  81.235"
            ]
          },
          "metadata": {
            "tags": []
          },
          "execution_count": 9
        }
      ]
    },
    {
      "cell_type": "code",
      "metadata": {
        "id": "TetnpYL7PA0h",
        "colab_type": "code",
        "outputId": "82b90b8e-ab4f-4706-99d0-bbf83b5190c4",
        "colab": {}
      },
      "source": [
        "df.groupby('continent')['lifeExp'].agg([np.count_nonzero, \n",
        "                                        np.mean, np.std]).rename(columns={'count_nonzero': 'count',\n",
        "                                                                          'mean':'avg',\n",
        "                                                                          'std':'std_dev'})"
      ],
      "execution_count": 0,
      "outputs": [
        {
          "output_type": "execute_result",
          "data": {
            "text/html": [
              "<div>\n",
              "<style scoped>\n",
              "    .dataframe tbody tr th:only-of-type {\n",
              "        vertical-align: middle;\n",
              "    }\n",
              "\n",
              "    .dataframe tbody tr th {\n",
              "        vertical-align: top;\n",
              "    }\n",
              "\n",
              "    .dataframe thead th {\n",
              "        text-align: right;\n",
              "    }\n",
              "</style>\n",
              "<table border=\"1\" class=\"dataframe\">\n",
              "  <thead>\n",
              "    <tr style=\"text-align: right;\">\n",
              "      <th></th>\n",
              "      <th>count</th>\n",
              "      <th>avg</th>\n",
              "      <th>std_dev</th>\n",
              "    </tr>\n",
              "    <tr>\n",
              "      <th>continent</th>\n",
              "      <th></th>\n",
              "      <th></th>\n",
              "      <th></th>\n",
              "    </tr>\n",
              "  </thead>\n",
              "  <tbody>\n",
              "    <tr>\n",
              "      <th>Africa</th>\n",
              "      <td>624.0</td>\n",
              "      <td>48.865330</td>\n",
              "      <td>9.150210</td>\n",
              "    </tr>\n",
              "    <tr>\n",
              "      <th>Americas</th>\n",
              "      <td>300.0</td>\n",
              "      <td>64.658737</td>\n",
              "      <td>9.345088</td>\n",
              "    </tr>\n",
              "    <tr>\n",
              "      <th>Asia</th>\n",
              "      <td>396.0</td>\n",
              "      <td>60.064903</td>\n",
              "      <td>11.864532</td>\n",
              "    </tr>\n",
              "    <tr>\n",
              "      <th>Europe</th>\n",
              "      <td>360.0</td>\n",
              "      <td>71.903686</td>\n",
              "      <td>5.433178</td>\n",
              "    </tr>\n",
              "    <tr>\n",
              "      <th>Oceania</th>\n",
              "      <td>24.0</td>\n",
              "      <td>74.326208</td>\n",
              "      <td>3.795611</td>\n",
              "    </tr>\n",
              "  </tbody>\n",
              "</table>\n",
              "</div>"
            ],
            "text/plain": [
              "           count        avg    std_dev\n",
              "continent                             \n",
              "Africa     624.0  48.865330   9.150210\n",
              "Americas   300.0  64.658737   9.345088\n",
              "Asia       396.0  60.064903  11.864532\n",
              "Europe     360.0  71.903686   5.433178\n",
              "Oceania     24.0  74.326208   3.795611"
            ]
          },
          "metadata": {
            "tags": []
          },
          "execution_count": 10
        }
      ]
    },
    {
      "cell_type": "markdown",
      "metadata": {
        "id": "xIA5pbHsPA0k",
        "colab_type": "text"
      },
      "source": [
        "# Preferred `.groupby()` syntax\n",
        "\n",
        "- You should use following syntax when you use `.groupby()`\n",
        "    - the preferred syntax can handle different aggregation functions on different columns\n",
        "    \n",
        "```python\n",
        "df.groupby('grouping column').agg({'aggregating column': 'aggregating function'})\n",
        "```"
      ]
    },
    {
      "cell_type": "code",
      "metadata": {
        "id": "rRJlXxhnPA0k",
        "colab_type": "code",
        "outputId": "9ab25a23-8a6e-4792-f140-b36d1904688a",
        "colab": {}
      },
      "source": [
        "df.groupby('continent').agg({'lifeExp': ['min', 'max'],\n",
        "                              'pop': ['min', 'max']\n",
        "                              }).round(0).head(10)"
      ],
      "execution_count": 0,
      "outputs": [
        {
          "output_type": "execute_result",
          "data": {
            "text/html": [
              "<div>\n",
              "<style scoped>\n",
              "    .dataframe tbody tr th:only-of-type {\n",
              "        vertical-align: middle;\n",
              "    }\n",
              "\n",
              "    .dataframe tbody tr th {\n",
              "        vertical-align: top;\n",
              "    }\n",
              "\n",
              "    .dataframe thead tr th {\n",
              "        text-align: left;\n",
              "    }\n",
              "\n",
              "    .dataframe thead tr:last-of-type th {\n",
              "        text-align: right;\n",
              "    }\n",
              "</style>\n",
              "<table border=\"1\" class=\"dataframe\">\n",
              "  <thead>\n",
              "    <tr>\n",
              "      <th></th>\n",
              "      <th colspan=\"2\" halign=\"left\">lifeExp</th>\n",
              "      <th colspan=\"2\" halign=\"left\">pop</th>\n",
              "    </tr>\n",
              "    <tr>\n",
              "      <th></th>\n",
              "      <th>min</th>\n",
              "      <th>max</th>\n",
              "      <th>min</th>\n",
              "      <th>max</th>\n",
              "    </tr>\n",
              "    <tr>\n",
              "      <th>continent</th>\n",
              "      <th></th>\n",
              "      <th></th>\n",
              "      <th></th>\n",
              "      <th></th>\n",
              "    </tr>\n",
              "  </thead>\n",
              "  <tbody>\n",
              "    <tr>\n",
              "      <th>Africa</th>\n",
              "      <td>24.0</td>\n",
              "      <td>76.0</td>\n",
              "      <td>60011</td>\n",
              "      <td>135031164</td>\n",
              "    </tr>\n",
              "    <tr>\n",
              "      <th>Americas</th>\n",
              "      <td>38.0</td>\n",
              "      <td>81.0</td>\n",
              "      <td>662850</td>\n",
              "      <td>301139947</td>\n",
              "    </tr>\n",
              "    <tr>\n",
              "      <th>Asia</th>\n",
              "      <td>29.0</td>\n",
              "      <td>83.0</td>\n",
              "      <td>120447</td>\n",
              "      <td>1318683096</td>\n",
              "    </tr>\n",
              "    <tr>\n",
              "      <th>Europe</th>\n",
              "      <td>44.0</td>\n",
              "      <td>82.0</td>\n",
              "      <td>147962</td>\n",
              "      <td>82400996</td>\n",
              "    </tr>\n",
              "    <tr>\n",
              "      <th>Oceania</th>\n",
              "      <td>69.0</td>\n",
              "      <td>81.0</td>\n",
              "      <td>1994794</td>\n",
              "      <td>20434176</td>\n",
              "    </tr>\n",
              "  </tbody>\n",
              "</table>\n",
              "</div>"
            ],
            "text/plain": [
              "          lifeExp            pop            \n",
              "              min   max      min         max\n",
              "continent                                   \n",
              "Africa       24.0  76.0    60011   135031164\n",
              "Americas     38.0  81.0   662850   301139947\n",
              "Asia         29.0  83.0   120447  1318683096\n",
              "Europe       44.0  82.0   147962    82400996\n",
              "Oceania      69.0  81.0  1994794    20434176"
            ]
          },
          "metadata": {
            "tags": []
          },
          "execution_count": 11
        }
      ]
    },
    {
      "cell_type": "markdown",
      "metadata": {
        "id": "IMXPw8ufPA0n",
        "colab_type": "text"
      },
      "source": [
        "# Transform Your Data\n",
        "\n",
        "- Transform is different from aggregation\n",
        "    - aggregate takes multiple values, and output one value (values --> annual average)\n",
        "    - transform take mukltiple values, and do a one-to-one transform\n",
        "    - transform is similar to apply"
      ]
    },
    {
      "cell_type": "code",
      "metadata": {
        "id": "Z0hKBwGlPA0n",
        "colab_type": "code",
        "colab": {}
      },
      "source": [
        "# z-score example\n",
        "def my_zscore(x):\n",
        "    return(x-x.mean()/x.std())"
      ],
      "execution_count": 0,
      "outputs": []
    },
    {
      "cell_type": "code",
      "metadata": {
        "id": "LOFu3-T7PA0q",
        "colab_type": "code",
        "outputId": "bc044f37-dd6b-4d14-9b0d-47e10de3211b",
        "colab": {}
      },
      "source": [
        "z_transform = df.groupby('continent')['lifeExp'].transform(my_zscore)\n",
        "z_transform.head(3)"
      ],
      "execution_count": 0,
      "outputs": [
        {
          "output_type": "execute_result",
          "data": {
            "text/plain": [
              "0    23.73844\n",
              "1    25.26944\n",
              "2    26.93444\n",
              "Name: lifeExp, dtype: float64"
            ]
          },
          "metadata": {
            "tags": []
          },
          "execution_count": 13
        }
      ]
    },
    {
      "cell_type": "code",
      "metadata": {
        "id": "tyIegJwgPA0s",
        "colab_type": "code",
        "outputId": "89daffe1-ca38-445c-bae3-c132278d341b",
        "colab": {}
      },
      "source": [
        "# one-to-one match - same dimension with `df`\n",
        "z_transform.shape[0] == df.shape[0]"
      ],
      "execution_count": 0,
      "outputs": [
        {
          "output_type": "execute_result",
          "data": {
            "text/plain": [
              "True"
            ]
          },
          "metadata": {
            "tags": []
          },
          "execution_count": 14
        }
      ]
    },
    {
      "cell_type": "code",
      "metadata": {
        "id": "1S3NepzKPA0v",
        "colab_type": "code",
        "outputId": "29eac08f-e96d-4b56-e212-cb00b4cd1bba",
        "colab": {}
      },
      "source": [
        "# same as transform\n",
        "z_transform1 = df.groupby('continent')['lifeExp'].apply(my_zscore)\n",
        "z_transform1.head(3)"
      ],
      "execution_count": 0,
      "outputs": [
        {
          "output_type": "execute_result",
          "data": {
            "text/plain": [
              "0    23.73844\n",
              "1    25.26944\n",
              "2    26.93444\n",
              "Name: lifeExp, dtype: float64"
            ]
          },
          "metadata": {
            "tags": []
          },
          "execution_count": 15
        }
      ]
    },
    {
      "cell_type": "markdown",
      "metadata": {
        "id": "SwdD6ThxPA0x",
        "colab_type": "text"
      },
      "source": [
        "# missing value example\n",
        "- Read PD4E pp. 199 - 201 for the example"
      ]
    },
    {
      "cell_type": "markdown",
      "metadata": {
        "id": "9fRzWoh9PA0y",
        "colab_type": "text"
      },
      "source": [
        "# Grouped\n",
        "\n",
        "- You can always group your data based on one or more columns\n",
        "- grouped objects are essentially subsets of your data, based on certain conditions"
      ]
    },
    {
      "cell_type": "code",
      "metadata": {
        "id": "QQ3shrpJPA0y",
        "colab_type": "code",
        "outputId": "79ebec24-ed0c-40a2-e254-61503b668b32",
        "colab": {}
      },
      "source": [
        "import seaborn as sns\n",
        "\n",
        "tips10 = sns.load_dataset('tips').sample(10, random_state=2019)\n",
        "tips10"
      ],
      "execution_count": 0,
      "outputs": [
        {
          "output_type": "execute_result",
          "data": {
            "text/html": [
              "<div>\n",
              "<style scoped>\n",
              "    .dataframe tbody tr th:only-of-type {\n",
              "        vertical-align: middle;\n",
              "    }\n",
              "\n",
              "    .dataframe tbody tr th {\n",
              "        vertical-align: top;\n",
              "    }\n",
              "\n",
              "    .dataframe thead th {\n",
              "        text-align: right;\n",
              "    }\n",
              "</style>\n",
              "<table border=\"1\" class=\"dataframe\">\n",
              "  <thead>\n",
              "    <tr style=\"text-align: right;\">\n",
              "      <th></th>\n",
              "      <th>total_bill</th>\n",
              "      <th>tip</th>\n",
              "      <th>sex</th>\n",
              "      <th>smoker</th>\n",
              "      <th>day</th>\n",
              "      <th>time</th>\n",
              "      <th>size</th>\n",
              "    </tr>\n",
              "  </thead>\n",
              "  <tbody>\n",
              "    <tr>\n",
              "      <th>4</th>\n",
              "      <td>24.59</td>\n",
              "      <td>3.61</td>\n",
              "      <td>Female</td>\n",
              "      <td>No</td>\n",
              "      <td>Sun</td>\n",
              "      <td>Dinner</td>\n",
              "      <td>4</td>\n",
              "    </tr>\n",
              "    <tr>\n",
              "      <th>42</th>\n",
              "      <td>13.94</td>\n",
              "      <td>3.06</td>\n",
              "      <td>Male</td>\n",
              "      <td>No</td>\n",
              "      <td>Sun</td>\n",
              "      <td>Dinner</td>\n",
              "      <td>2</td>\n",
              "    </tr>\n",
              "    <tr>\n",
              "      <th>241</th>\n",
              "      <td>22.67</td>\n",
              "      <td>2.00</td>\n",
              "      <td>Male</td>\n",
              "      <td>Yes</td>\n",
              "      <td>Sat</td>\n",
              "      <td>Dinner</td>\n",
              "      <td>2</td>\n",
              "    </tr>\n",
              "    <tr>\n",
              "      <th>233</th>\n",
              "      <td>10.77</td>\n",
              "      <td>1.47</td>\n",
              "      <td>Male</td>\n",
              "      <td>No</td>\n",
              "      <td>Sat</td>\n",
              "      <td>Dinner</td>\n",
              "      <td>2</td>\n",
              "    </tr>\n",
              "    <tr>\n",
              "      <th>34</th>\n",
              "      <td>17.78</td>\n",
              "      <td>3.27</td>\n",
              "      <td>Male</td>\n",
              "      <td>No</td>\n",
              "      <td>Sat</td>\n",
              "      <td>Dinner</td>\n",
              "      <td>2</td>\n",
              "    </tr>\n",
              "    <tr>\n",
              "      <th>23</th>\n",
              "      <td>39.42</td>\n",
              "      <td>7.58</td>\n",
              "      <td>Male</td>\n",
              "      <td>No</td>\n",
              "      <td>Sat</td>\n",
              "      <td>Dinner</td>\n",
              "      <td>4</td>\n",
              "    </tr>\n",
              "    <tr>\n",
              "      <th>105</th>\n",
              "      <td>15.36</td>\n",
              "      <td>1.64</td>\n",
              "      <td>Male</td>\n",
              "      <td>Yes</td>\n",
              "      <td>Sat</td>\n",
              "      <td>Dinner</td>\n",
              "      <td>2</td>\n",
              "    </tr>\n",
              "    <tr>\n",
              "      <th>201</th>\n",
              "      <td>12.74</td>\n",
              "      <td>2.01</td>\n",
              "      <td>Female</td>\n",
              "      <td>Yes</td>\n",
              "      <td>Thur</td>\n",
              "      <td>Lunch</td>\n",
              "      <td>2</td>\n",
              "    </tr>\n",
              "    <tr>\n",
              "      <th>85</th>\n",
              "      <td>34.83</td>\n",
              "      <td>5.17</td>\n",
              "      <td>Female</td>\n",
              "      <td>No</td>\n",
              "      <td>Thur</td>\n",
              "      <td>Lunch</td>\n",
              "      <td>4</td>\n",
              "    </tr>\n",
              "    <tr>\n",
              "      <th>101</th>\n",
              "      <td>15.38</td>\n",
              "      <td>3.00</td>\n",
              "      <td>Female</td>\n",
              "      <td>Yes</td>\n",
              "      <td>Fri</td>\n",
              "      <td>Dinner</td>\n",
              "      <td>2</td>\n",
              "    </tr>\n",
              "  </tbody>\n",
              "</table>\n",
              "</div>"
            ],
            "text/plain": [
              "     total_bill   tip     sex smoker   day    time  size\n",
              "4         24.59  3.61  Female     No   Sun  Dinner     4\n",
              "42        13.94  3.06    Male     No   Sun  Dinner     2\n",
              "241       22.67  2.00    Male    Yes   Sat  Dinner     2\n",
              "233       10.77  1.47    Male     No   Sat  Dinner     2\n",
              "34        17.78  3.27    Male     No   Sat  Dinner     2\n",
              "23        39.42  7.58    Male     No   Sat  Dinner     4\n",
              "105       15.36  1.64    Male    Yes   Sat  Dinner     2\n",
              "201       12.74  2.01  Female    Yes  Thur   Lunch     2\n",
              "85        34.83  5.17  Female     No  Thur   Lunch     4\n",
              "101       15.38  3.00  Female    Yes   Fri  Dinner     2"
            ]
          },
          "metadata": {
            "tags": []
          },
          "execution_count": 16
        }
      ]
    },
    {
      "cell_type": "code",
      "metadata": {
        "id": "R-mrBNKXPA04",
        "colab_type": "code",
        "outputId": "423f7038-ba19-4965-c399-a37b5ec1f031",
        "colab": {}
      },
      "source": [
        "# this will return the grouped objects\n",
        "grouped = tips10.groupby('sex')\n",
        "grouped"
      ],
      "execution_count": 0,
      "outputs": [
        {
          "output_type": "execute_result",
          "data": {
            "text/plain": [
              "<pandas.core.groupby.generic.DataFrameGroupBy object at 0x7fdc0fcd2f60>"
            ]
          },
          "metadata": {
            "tags": []
          },
          "execution_count": 17
        }
      ]
    },
    {
      "cell_type": "code",
      "metadata": {
        "id": "F3LsZLR3PA0-",
        "colab_type": "code",
        "outputId": "82385bd1-2542-4a77-e94d-052dae815853",
        "colab": {}
      },
      "source": [
        "# to unpack the grouped objects, we need to use a loop\n",
        "for group in grouped:\n",
        "    print(group)"
      ],
      "execution_count": 0,
      "outputs": [
        {
          "output_type": "stream",
          "text": [
            "('Male',      total_bill   tip   sex smoker  day    time  size\n",
            "42        13.94  3.06  Male     No  Sun  Dinner     2\n",
            "241       22.67  2.00  Male    Yes  Sat  Dinner     2\n",
            "233       10.77  1.47  Male     No  Sat  Dinner     2\n",
            "34        17.78  3.27  Male     No  Sat  Dinner     2\n",
            "23        39.42  7.58  Male     No  Sat  Dinner     4\n",
            "105       15.36  1.64  Male    Yes  Sat  Dinner     2)\n",
            "('Female',      total_bill   tip     sex smoker   day    time  size\n",
            "4         24.59  3.61  Female     No   Sun  Dinner     4\n",
            "201       12.74  2.01  Female    Yes  Thur   Lunch     2\n",
            "85        34.83  5.17  Female     No  Thur   Lunch     4\n",
            "101       15.38  3.00  Female    Yes   Fri  Dinner     2)\n"
          ],
          "name": "stdout"
        }
      ]
    },
    {
      "cell_type": "code",
      "metadata": {
        "id": "mzGvdAirPA1G",
        "colab_type": "code",
        "outputId": "9183c0e0-4cd3-46a8-cb04-05ee5740bc98",
        "colab": {}
      },
      "source": [
        "# we can do calculation to the grouped objects\n",
        "grouped.mean()"
      ],
      "execution_count": 0,
      "outputs": [
        {
          "output_type": "execute_result",
          "data": {
            "text/html": [
              "<div>\n",
              "<style scoped>\n",
              "    .dataframe tbody tr th:only-of-type {\n",
              "        vertical-align: middle;\n",
              "    }\n",
              "\n",
              "    .dataframe tbody tr th {\n",
              "        vertical-align: top;\n",
              "    }\n",
              "\n",
              "    .dataframe thead th {\n",
              "        text-align: right;\n",
              "    }\n",
              "</style>\n",
              "<table border=\"1\" class=\"dataframe\">\n",
              "  <thead>\n",
              "    <tr style=\"text-align: right;\">\n",
              "      <th></th>\n",
              "      <th>total_bill</th>\n",
              "      <th>tip</th>\n",
              "      <th>size</th>\n",
              "    </tr>\n",
              "    <tr>\n",
              "      <th>sex</th>\n",
              "      <th></th>\n",
              "      <th></th>\n",
              "      <th></th>\n",
              "    </tr>\n",
              "  </thead>\n",
              "  <tbody>\n",
              "    <tr>\n",
              "      <th>Male</th>\n",
              "      <td>19.990</td>\n",
              "      <td>3.1700</td>\n",
              "      <td>2.333333</td>\n",
              "    </tr>\n",
              "    <tr>\n",
              "      <th>Female</th>\n",
              "      <td>21.885</td>\n",
              "      <td>3.4475</td>\n",
              "      <td>3.000000</td>\n",
              "    </tr>\n",
              "  </tbody>\n",
              "</table>\n",
              "</div>"
            ],
            "text/plain": [
              "        total_bill     tip      size\n",
              "sex                                 \n",
              "Male        19.990  3.1700  2.333333\n",
              "Female      21.885  3.4475  3.000000"
            ]
          },
          "metadata": {
            "tags": []
          },
          "execution_count": 19
        }
      ]
    },
    {
      "cell_type": "code",
      "metadata": {
        "id": "0H0uWUgCPA1J",
        "colab_type": "code",
        "outputId": "ef03f742-46a3-4ce6-9729-bf6857de4e2a",
        "colab": {}
      },
      "source": [
        "# selecting a group - a subset of your data\n",
        "grouped.get_group('Female')"
      ],
      "execution_count": 0,
      "outputs": [
        {
          "output_type": "execute_result",
          "data": {
            "text/html": [
              "<div>\n",
              "<style scoped>\n",
              "    .dataframe tbody tr th:only-of-type {\n",
              "        vertical-align: middle;\n",
              "    }\n",
              "\n",
              "    .dataframe tbody tr th {\n",
              "        vertical-align: top;\n",
              "    }\n",
              "\n",
              "    .dataframe thead th {\n",
              "        text-align: right;\n",
              "    }\n",
              "</style>\n",
              "<table border=\"1\" class=\"dataframe\">\n",
              "  <thead>\n",
              "    <tr style=\"text-align: right;\">\n",
              "      <th></th>\n",
              "      <th>total_bill</th>\n",
              "      <th>tip</th>\n",
              "      <th>sex</th>\n",
              "      <th>smoker</th>\n",
              "      <th>day</th>\n",
              "      <th>time</th>\n",
              "      <th>size</th>\n",
              "    </tr>\n",
              "  </thead>\n",
              "  <tbody>\n",
              "    <tr>\n",
              "      <th>4</th>\n",
              "      <td>24.59</td>\n",
              "      <td>3.61</td>\n",
              "      <td>Female</td>\n",
              "      <td>No</td>\n",
              "      <td>Sun</td>\n",
              "      <td>Dinner</td>\n",
              "      <td>4</td>\n",
              "    </tr>\n",
              "    <tr>\n",
              "      <th>201</th>\n",
              "      <td>12.74</td>\n",
              "      <td>2.01</td>\n",
              "      <td>Female</td>\n",
              "      <td>Yes</td>\n",
              "      <td>Thur</td>\n",
              "      <td>Lunch</td>\n",
              "      <td>2</td>\n",
              "    </tr>\n",
              "    <tr>\n",
              "      <th>85</th>\n",
              "      <td>34.83</td>\n",
              "      <td>5.17</td>\n",
              "      <td>Female</td>\n",
              "      <td>No</td>\n",
              "      <td>Thur</td>\n",
              "      <td>Lunch</td>\n",
              "      <td>4</td>\n",
              "    </tr>\n",
              "    <tr>\n",
              "      <th>101</th>\n",
              "      <td>15.38</td>\n",
              "      <td>3.00</td>\n",
              "      <td>Female</td>\n",
              "      <td>Yes</td>\n",
              "      <td>Fri</td>\n",
              "      <td>Dinner</td>\n",
              "      <td>2</td>\n",
              "    </tr>\n",
              "  </tbody>\n",
              "</table>\n",
              "</div>"
            ],
            "text/plain": [
              "     total_bill   tip     sex smoker   day    time  size\n",
              "4         24.59  3.61  Female     No   Sun  Dinner     4\n",
              "201       12.74  2.01  Female    Yes  Thur   Lunch     2\n",
              "85        34.83  5.17  Female     No  Thur   Lunch     4\n",
              "101       15.38  3.00  Female    Yes   Fri  Dinner     2"
            ]
          },
          "metadata": {
            "tags": []
          },
          "execution_count": 20
        }
      ]
    },
    {
      "cell_type": "code",
      "metadata": {
        "id": "irc0uqAOPA1K",
        "colab_type": "code",
        "outputId": "63b1564f-cd8d-4bc7-ac75-50d62db32995",
        "colab": {}
      },
      "source": [
        "# you can also group based on multiple columns\n",
        "tips10.groupby(['sex','time']).mean().round(2)"
      ],
      "execution_count": 0,
      "outputs": [
        {
          "output_type": "execute_result",
          "data": {
            "text/html": [
              "<div>\n",
              "<style scoped>\n",
              "    .dataframe tbody tr th:only-of-type {\n",
              "        vertical-align: middle;\n",
              "    }\n",
              "\n",
              "    .dataframe tbody tr th {\n",
              "        vertical-align: top;\n",
              "    }\n",
              "\n",
              "    .dataframe thead th {\n",
              "        text-align: right;\n",
              "    }\n",
              "</style>\n",
              "<table border=\"1\" class=\"dataframe\">\n",
              "  <thead>\n",
              "    <tr style=\"text-align: right;\">\n",
              "      <th></th>\n",
              "      <th></th>\n",
              "      <th>total_bill</th>\n",
              "      <th>tip</th>\n",
              "      <th>size</th>\n",
              "    </tr>\n",
              "    <tr>\n",
              "      <th>sex</th>\n",
              "      <th>time</th>\n",
              "      <th></th>\n",
              "      <th></th>\n",
              "      <th></th>\n",
              "    </tr>\n",
              "  </thead>\n",
              "  <tbody>\n",
              "    <tr>\n",
              "      <th rowspan=\"2\" valign=\"top\">Male</th>\n",
              "      <th>Lunch</th>\n",
              "      <td>NaN</td>\n",
              "      <td>NaN</td>\n",
              "      <td>NaN</td>\n",
              "    </tr>\n",
              "    <tr>\n",
              "      <th>Dinner</th>\n",
              "      <td>19.99</td>\n",
              "      <td>3.17</td>\n",
              "      <td>2.33</td>\n",
              "    </tr>\n",
              "    <tr>\n",
              "      <th rowspan=\"2\" valign=\"top\">Female</th>\n",
              "      <th>Lunch</th>\n",
              "      <td>23.78</td>\n",
              "      <td>3.59</td>\n",
              "      <td>3.00</td>\n",
              "    </tr>\n",
              "    <tr>\n",
              "      <th>Dinner</th>\n",
              "      <td>19.98</td>\n",
              "      <td>3.30</td>\n",
              "      <td>3.00</td>\n",
              "    </tr>\n",
              "  </tbody>\n",
              "</table>\n",
              "</div>"
            ],
            "text/plain": [
              "               total_bill   tip  size\n",
              "sex    time                          \n",
              "Male   Lunch          NaN   NaN   NaN\n",
              "       Dinner       19.99  3.17  2.33\n",
              "Female Lunch        23.78  3.59  3.00\n",
              "       Dinner       19.98  3.30  3.00"
            ]
          },
          "metadata": {
            "tags": []
          },
          "execution_count": 21
        }
      ]
    },
    {
      "cell_type": "markdown",
      "metadata": {
        "id": "phQsk-mrPA1N",
        "colab_type": "text"
      },
      "source": [
        "# Multi-index DataFrame\n",
        "\n",
        "- Above results, since it has two levels of indices, is called a _multi-index_ DataFrame\n",
        "- multi-index DataFrames are useful in the field of databases and data warehouses/BI\n",
        "- but strongly discouraged in machine learning"
      ]
    },
    {
      "cell_type": "code",
      "metadata": {
        "id": "1rRdNaDYPA1O",
        "colab_type": "code",
        "outputId": "1b7ac500-bc21-4d66-f083-8f5d56399299",
        "colab": {}
      },
      "source": [
        "# indexing can unpack the multi-index, by giving you a subset of the data\n",
        "tips10.groupby(['sex','time']).mean().loc['Male']"
      ],
      "execution_count": 0,
      "outputs": [
        {
          "output_type": "execute_result",
          "data": {
            "text/html": [
              "<div>\n",
              "<style scoped>\n",
              "    .dataframe tbody tr th:only-of-type {\n",
              "        vertical-align: middle;\n",
              "    }\n",
              "\n",
              "    .dataframe tbody tr th {\n",
              "        vertical-align: top;\n",
              "    }\n",
              "\n",
              "    .dataframe thead th {\n",
              "        text-align: right;\n",
              "    }\n",
              "</style>\n",
              "<table border=\"1\" class=\"dataframe\">\n",
              "  <thead>\n",
              "    <tr style=\"text-align: right;\">\n",
              "      <th></th>\n",
              "      <th>total_bill</th>\n",
              "      <th>tip</th>\n",
              "      <th>size</th>\n",
              "    </tr>\n",
              "    <tr>\n",
              "      <th>time</th>\n",
              "      <th></th>\n",
              "      <th></th>\n",
              "      <th></th>\n",
              "    </tr>\n",
              "  </thead>\n",
              "  <tbody>\n",
              "    <tr>\n",
              "      <th>Lunch</th>\n",
              "      <td>NaN</td>\n",
              "      <td>NaN</td>\n",
              "      <td>NaN</td>\n",
              "    </tr>\n",
              "    <tr>\n",
              "      <th>Dinner</th>\n",
              "      <td>19.99</td>\n",
              "      <td>3.17</td>\n",
              "      <td>2.333333</td>\n",
              "    </tr>\n",
              "  </tbody>\n",
              "</table>\n",
              "</div>"
            ],
            "text/plain": [
              "        total_bill   tip      size\n",
              "time                              \n",
              "Lunch          NaN   NaN       NaN\n",
              "Dinner       19.99  3.17  2.333333"
            ]
          },
          "metadata": {
            "tags": []
          },
          "execution_count": 22
        }
      ]
    },
    {
      "cell_type": "code",
      "metadata": {
        "id": "Tfyn9_L2PA1Q",
        "colab_type": "code",
        "outputId": "9471be18-1d7d-4df9-cbdd-a2eaab5e00e6",
        "colab": {}
      },
      "source": [
        "# if you want to get all the data at the same level, you need `.reset_index()`\n",
        "# this operation is called __flattening__\n",
        "# almost a must do in machine learning\n",
        "tips10.groupby(['sex','time']).mean().reset_index()"
      ],
      "execution_count": 0,
      "outputs": [
        {
          "output_type": "execute_result",
          "data": {
            "text/html": [
              "<div>\n",
              "<style scoped>\n",
              "    .dataframe tbody tr th:only-of-type {\n",
              "        vertical-align: middle;\n",
              "    }\n",
              "\n",
              "    .dataframe tbody tr th {\n",
              "        vertical-align: top;\n",
              "    }\n",
              "\n",
              "    .dataframe thead th {\n",
              "        text-align: right;\n",
              "    }\n",
              "</style>\n",
              "<table border=\"1\" class=\"dataframe\">\n",
              "  <thead>\n",
              "    <tr style=\"text-align: right;\">\n",
              "      <th></th>\n",
              "      <th>sex</th>\n",
              "      <th>time</th>\n",
              "      <th>total_bill</th>\n",
              "      <th>tip</th>\n",
              "      <th>size</th>\n",
              "    </tr>\n",
              "  </thead>\n",
              "  <tbody>\n",
              "    <tr>\n",
              "      <th>0</th>\n",
              "      <td>Male</td>\n",
              "      <td>Lunch</td>\n",
              "      <td>NaN</td>\n",
              "      <td>NaN</td>\n",
              "      <td>NaN</td>\n",
              "    </tr>\n",
              "    <tr>\n",
              "      <th>1</th>\n",
              "      <td>Male</td>\n",
              "      <td>Dinner</td>\n",
              "      <td>19.990</td>\n",
              "      <td>3.170</td>\n",
              "      <td>2.333333</td>\n",
              "    </tr>\n",
              "    <tr>\n",
              "      <th>2</th>\n",
              "      <td>Female</td>\n",
              "      <td>Lunch</td>\n",
              "      <td>23.785</td>\n",
              "      <td>3.590</td>\n",
              "      <td>3.000000</td>\n",
              "    </tr>\n",
              "    <tr>\n",
              "      <th>3</th>\n",
              "      <td>Female</td>\n",
              "      <td>Dinner</td>\n",
              "      <td>19.985</td>\n",
              "      <td>3.305</td>\n",
              "      <td>3.000000</td>\n",
              "    </tr>\n",
              "  </tbody>\n",
              "</table>\n",
              "</div>"
            ],
            "text/plain": [
              "      sex    time  total_bill    tip      size\n",
              "0    Male   Lunch         NaN    NaN       NaN\n",
              "1    Male  Dinner      19.990  3.170  2.333333\n",
              "2  Female   Lunch      23.785  3.590  3.000000\n",
              "3  Female  Dinner      19.985  3.305  3.000000"
            ]
          },
          "metadata": {
            "tags": []
          },
          "execution_count": 23
        }
      ]
    },
    {
      "cell_type": "markdown",
      "metadata": {
        "id": "1ZCCOQMQPA1W",
        "colab_type": "text"
      },
      "source": [
        "# `pivot_table` in `pandas`\n",
        "\n",
        "- Like you used in Excel, `pandas` also support pivot tables\n",
        "- pivot tables are similar to `.groupby()`, but much cleaned\n",
        "    - `NaN` rows will be eliminated\n",
        "- Prefer `.pivot_table()` to `.groupby()` when you want to directly compare groups\n",
        "- Alternatively, use `.groupby()` when you want to iterate through groups"
      ]
    },
    {
      "cell_type": "code",
      "metadata": {
        "id": "jiZ8622YPA1X",
        "colab_type": "code",
        "outputId": "48586468-ee4c-48df-cca4-1dae360e371f",
        "colab": {}
      },
      "source": [
        "tips10.pivot_table(index=['sex', 'time'],\n",
        "                    values=['total_bill', 'tip', 'size'], aggfunc='mean').round(2)"
      ],
      "execution_count": 0,
      "outputs": [
        {
          "output_type": "execute_result",
          "data": {
            "text/html": [
              "<div>\n",
              "<style scoped>\n",
              "    .dataframe tbody tr th:only-of-type {\n",
              "        vertical-align: middle;\n",
              "    }\n",
              "\n",
              "    .dataframe tbody tr th {\n",
              "        vertical-align: top;\n",
              "    }\n",
              "\n",
              "    .dataframe thead th {\n",
              "        text-align: right;\n",
              "    }\n",
              "</style>\n",
              "<table border=\"1\" class=\"dataframe\">\n",
              "  <thead>\n",
              "    <tr style=\"text-align: right;\">\n",
              "      <th></th>\n",
              "      <th></th>\n",
              "      <th>size</th>\n",
              "      <th>tip</th>\n",
              "      <th>total_bill</th>\n",
              "    </tr>\n",
              "    <tr>\n",
              "      <th>sex</th>\n",
              "      <th>time</th>\n",
              "      <th></th>\n",
              "      <th></th>\n",
              "      <th></th>\n",
              "    </tr>\n",
              "  </thead>\n",
              "  <tbody>\n",
              "    <tr>\n",
              "      <th>Male</th>\n",
              "      <th>Dinner</th>\n",
              "      <td>2.33</td>\n",
              "      <td>3.17</td>\n",
              "      <td>19.99</td>\n",
              "    </tr>\n",
              "    <tr>\n",
              "      <th rowspan=\"2\" valign=\"top\">Female</th>\n",
              "      <th>Lunch</th>\n",
              "      <td>3.00</td>\n",
              "      <td>3.59</td>\n",
              "      <td>23.78</td>\n",
              "    </tr>\n",
              "    <tr>\n",
              "      <th>Dinner</th>\n",
              "      <td>3.00</td>\n",
              "      <td>3.30</td>\n",
              "      <td>19.98</td>\n",
              "    </tr>\n",
              "  </tbody>\n",
              "</table>\n",
              "</div>"
            ],
            "text/plain": [
              "               size   tip  total_bill\n",
              "sex    time                          \n",
              "Male   Dinner  2.33  3.17       19.99\n",
              "Female Lunch   3.00  3.59       23.78\n",
              "       Dinner  3.00  3.30       19.98"
            ]
          },
          "metadata": {
            "tags": []
          },
          "execution_count": 24
        }
      ]
    },
    {
      "cell_type": "markdown",
      "metadata": {
        "id": "zA1gXqoZPA1a",
        "colab_type": "text"
      },
      "source": [
        "# Crosstabs\n",
        "\n",
        "- pandas also provide a function `crosstab()`\n",
        "- only use that when you want to look at the relative frequency of a column values"
      ]
    },
    {
      "cell_type": "code",
      "metadata": {
        "id": "HP85ZbhUPA1b",
        "colab_type": "code",
        "outputId": "ca04ab26-ea21-4872-bbd2-07d6607f159b",
        "colab": {}
      },
      "source": [
        "# following statement will give you the relative frequency of `day` over `sex`\n",
        "pd.crosstab(index=tips10['sex'], columns=tips10['day'], normalize='all').round(3)"
      ],
      "execution_count": 0,
      "outputs": [
        {
          "output_type": "execute_result",
          "data": {
            "text/html": [
              "<div>\n",
              "<style scoped>\n",
              "    .dataframe tbody tr th:only-of-type {\n",
              "        vertical-align: middle;\n",
              "    }\n",
              "\n",
              "    .dataframe tbody tr th {\n",
              "        vertical-align: top;\n",
              "    }\n",
              "\n",
              "    .dataframe thead th {\n",
              "        text-align: right;\n",
              "    }\n",
              "</style>\n",
              "<table border=\"1\" class=\"dataframe\">\n",
              "  <thead>\n",
              "    <tr style=\"text-align: right;\">\n",
              "      <th>day</th>\n",
              "      <th>Thur</th>\n",
              "      <th>Fri</th>\n",
              "      <th>Sat</th>\n",
              "      <th>Sun</th>\n",
              "    </tr>\n",
              "    <tr>\n",
              "      <th>sex</th>\n",
              "      <th></th>\n",
              "      <th></th>\n",
              "      <th></th>\n",
              "      <th></th>\n",
              "    </tr>\n",
              "  </thead>\n",
              "  <tbody>\n",
              "    <tr>\n",
              "      <th>Male</th>\n",
              "      <td>0.0</td>\n",
              "      <td>0.0</td>\n",
              "      <td>0.5</td>\n",
              "      <td>0.1</td>\n",
              "    </tr>\n",
              "    <tr>\n",
              "      <th>Female</th>\n",
              "      <td>0.2</td>\n",
              "      <td>0.1</td>\n",
              "      <td>0.0</td>\n",
              "      <td>0.1</td>\n",
              "    </tr>\n",
              "  </tbody>\n",
              "</table>\n",
              "</div>"
            ],
            "text/plain": [
              "day     Thur  Fri  Sat  Sun\n",
              "sex                        \n",
              "Male     0.0  0.0  0.5  0.1\n",
              "Female   0.2  0.1  0.0  0.1"
            ]
          },
          "metadata": {
            "tags": []
          },
          "execution_count": 25
        }
      ]
    },
    {
      "cell_type": "markdown",
      "metadata": {
        "id": "-d_nnOHhPA1e",
        "colab_type": "text"
      },
      "source": [
        "# Your Turn Here\n",
        "Finish exercises below by following instructions of each of them."
      ]
    },
    {
      "cell_type": "markdown",
      "metadata": {
        "id": "dEl2EdkWPA1f",
        "colab_type": "text"
      },
      "source": [
        "## Q1. Coding Problem\n",
        "\n",
        "Complete excecises regarding data types of the given DataFrame (`itinery_df`)."
      ]
    },
    {
      "cell_type": "code",
      "metadata": {
        "id": "x5zMOzBJPA1f",
        "colab_type": "code",
        "outputId": "ec98afae-5449-4e25-d10c-c27ffe09c17b",
        "colab": {}
      },
      "source": [
        "import random\n",
        "import pandas as pd\n",
        "# generating the DF\n",
        "duration_mins = pd.Series(random.sample(range(1, 1800), 50), name='duration_mins')\n",
        "work_types = ['lecture', 'consulting', 'research']\n",
        "work_type_series = pd.Series(random.choices(work_types, k=50), name='work_types')\n",
        "locations = ['Beijing, China', 'London, England', 'Paris, France', 'Munich, Germany', \n",
        "             'Sydney, Australia', 'Mumbai, India', 'Madrid, Spain']\n",
        "loc_series = pd.Series(random.choices(locations, k=50), name='locations')\n",
        "hour_rates = pd.Series([round(random.uniform(10.0, 20.0), 2) for i in range(50)], name='hour_rates')\n",
        "#hour_rates.loc[random.sample(range(1, 20), 5)] = 'missing'\n",
        "#duration_mins.loc[random.sample(range(1, 20), 5)] = 'missing'\n",
        "itinery_df = pd.concat([duration_mins, work_type_series, loc_series, hour_rates], axis=1)\n",
        "#itinery_df['duration_mins'] = itinery_df['duration_mins'].astype(str)\n",
        "itinery_df.head()"
      ],
      "execution_count": 0,
      "outputs": [
        {
          "output_type": "execute_result",
          "data": {
            "text/html": [
              "<div>\n",
              "<style scoped>\n",
              "    .dataframe tbody tr th:only-of-type {\n",
              "        vertical-align: middle;\n",
              "    }\n",
              "\n",
              "    .dataframe tbody tr th {\n",
              "        vertical-align: top;\n",
              "    }\n",
              "\n",
              "    .dataframe thead th {\n",
              "        text-align: right;\n",
              "    }\n",
              "</style>\n",
              "<table border=\"1\" class=\"dataframe\">\n",
              "  <thead>\n",
              "    <tr style=\"text-align: right;\">\n",
              "      <th></th>\n",
              "      <th>duration_mins</th>\n",
              "      <th>work_types</th>\n",
              "      <th>locations</th>\n",
              "      <th>hour_rates</th>\n",
              "    </tr>\n",
              "  </thead>\n",
              "  <tbody>\n",
              "    <tr>\n",
              "      <th>0</th>\n",
              "      <td>1086</td>\n",
              "      <td>consulting</td>\n",
              "      <td>Mumbai, India</td>\n",
              "      <td>18.30</td>\n",
              "    </tr>\n",
              "    <tr>\n",
              "      <th>1</th>\n",
              "      <td>71</td>\n",
              "      <td>consulting</td>\n",
              "      <td>Mumbai, India</td>\n",
              "      <td>13.44</td>\n",
              "    </tr>\n",
              "    <tr>\n",
              "      <th>2</th>\n",
              "      <td>1391</td>\n",
              "      <td>research</td>\n",
              "      <td>London, England</td>\n",
              "      <td>12.83</td>\n",
              "    </tr>\n",
              "    <tr>\n",
              "      <th>3</th>\n",
              "      <td>138</td>\n",
              "      <td>research</td>\n",
              "      <td>London, England</td>\n",
              "      <td>19.79</td>\n",
              "    </tr>\n",
              "    <tr>\n",
              "      <th>4</th>\n",
              "      <td>572</td>\n",
              "      <td>consulting</td>\n",
              "      <td>Sydney, Australia</td>\n",
              "      <td>10.74</td>\n",
              "    </tr>\n",
              "  </tbody>\n",
              "</table>\n",
              "</div>"
            ],
            "text/plain": [
              "   duration_mins  work_types          locations  hour_rates\n",
              "0           1086  consulting      Mumbai, India       18.30\n",
              "1             71  consulting      Mumbai, India       13.44\n",
              "2           1391    research    London, England       12.83\n",
              "3            138    research    London, England       19.79\n",
              "4            572  consulting  Sydney, Australia       10.74"
            ]
          },
          "metadata": {
            "tags": []
          },
          "execution_count": 26
        }
      ]
    },
    {
      "cell_type": "markdown",
      "metadata": {
        "id": "JlWAWnt2PA1h",
        "colab_type": "text"
      },
      "source": [
        "## Part 1:\n",
        "\n",
        "Calculate the total working minutes (`durantion_mins`) by city, and answer which city has the highest total working minutes.\n",
        "\n",
        "__HINT__: use `.groupby()` with the aggregation function as `sum`."
      ]
    },
    {
      "cell_type": "code",
      "metadata": {
        "id": "6qVRNG2ePA1m",
        "colab_type": "code",
        "colab": {}
      },
      "source": [
        ""
      ],
      "execution_count": 0,
      "outputs": []
    },
    {
      "cell_type": "markdown",
      "metadata": {
        "id": "5yJZ5qsXPA1q",
        "colab_type": "text"
      },
      "source": [
        "## Part 2:\n",
        "\n",
        "Without using the `.describe()` method, calculate the `count`, `min`, `max`, `std`, `mean` of `hour_rates` grouped by `work_types`."
      ]
    },
    {
      "cell_type": "code",
      "metadata": {
        "id": "ALdt8__qPA1r",
        "colab_type": "code",
        "colab": {}
      },
      "source": [
        ""
      ],
      "execution_count": 0,
      "outputs": []
    },
    {
      "cell_type": "markdown",
      "metadata": {
        "id": "ZLdVmTZxPA1u",
        "colab_type": "text"
      },
      "source": [
        "## Part 3:\n",
        "\n",
        "Print out subset of `itinery_df` by different `locations`"
      ]
    },
    {
      "cell_type": "code",
      "metadata": {
        "id": "KoYRQrH9PA1y",
        "colab_type": "code",
        "colab": {}
      },
      "source": [
        ""
      ],
      "execution_count": 0,
      "outputs": []
    },
    {
      "cell_type": "markdown",
      "metadata": {
        "id": "IxkoDjbhPA12",
        "colab_type": "text"
      },
      "source": [
        "## Part 4:\n",
        "\n",
        "Use `.pivot_table` to compare which `location` has the highest `hour_rate`."
      ]
    },
    {
      "cell_type": "code",
      "metadata": {
        "id": "4hn0JJqoPA13",
        "colab_type": "code",
        "colab": {}
      },
      "source": [
        ""
      ],
      "execution_count": 0,
      "outputs": []
    },
    {
      "cell_type": "markdown",
      "metadata": {
        "id": "TkDfzfTwPA18",
        "colab_type": "text"
      },
      "source": [
        "## Part 5:\n",
        "\n",
        "Show the relative frequencies of `work_types` over different `locations`. (__HINT__: use `crosstab()`)"
      ]
    },
    {
      "cell_type": "code",
      "metadata": {
        "id": "yMeZSA1TPA19",
        "colab_type": "code",
        "colab": {}
      },
      "source": [
        ""
      ],
      "execution_count": 0,
      "outputs": []
    },
    {
      "cell_type": "markdown",
      "metadata": {
        "id": "qBx4WDadPA2B",
        "colab_type": "text"
      },
      "source": [
        "# Classwork (start here in class)\n",
        "You can start working on them right now:\n",
        "- Read Chapter 10 in PD4E \n",
        "- If time permits, start in on your homework. \n",
        "- Ask questions when you need help. Use this time to get help from the professor!\n",
        "\n",
        "# Homework (do at home)\n",
        "The following is due before class next week:\n",
        "  - Any remaining classwork from tonight\n",
        "  - DataCamp “Bringing it all together” assignment\n",
        "  - Coding assignment pt. 4\n",
        "\n",
        "Note: All work on DataCamp is logged. Don't try to fake it!\n",
        "\n",
        "Please email [me](mailto:jtao@fairfield.edu) if you have any problems or questions."
      ]
    },
    {
      "cell_type": "markdown",
      "metadata": {
        "id": "8vmKtn_LPA2G",
        "colab_type": "text"
      },
      "source": [
        "![DSB logo](https://github.com/DrJieTao/BA505-Slides/blob/master/img/Dolan.jpg?raw=1)\n",
        "# Groupby and Pivoting\n",
        "\n",
        "## PD4E Chapter 10: Groupby Operations: Split-Apply-Combine\n",
        "### How do you read/manipulate/store data in Python?"
      ]
    },
    {
      "cell_type": "code",
      "metadata": {
        "id": "gpsm3_FSPA2H",
        "colab_type": "code",
        "colab": {}
      },
      "source": [
        ""
      ],
      "execution_count": 0,
      "outputs": []
    }
  ]
}